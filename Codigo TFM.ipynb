{
 "cells": [
  {
   "cell_type": "markdown",
   "metadata": {},
   "source": [
    "   # ------------------------- Estudios de Punto de Pedido --------------------------------------------"
   ]
  },
  {
   "cell_type": "markdown",
   "metadata": {},
   "source": [
    "Se importan las diferentes bibliotecas que se van a emplear.  \n",
    "Se configuran las salidas y la precisión de los datos.  \n",
    "Se fija t en 365 días."
   ]
  },
  {
   "cell_type": "code",
   "execution_count": 1,
   "metadata": {},
   "outputs": [],
   "source": [
    "import numpy as np\n",
    "import pandas as pd\n",
    "import matplotlib.pyplot as plt\n",
    "\n",
    "pd.set_option(\"display.max_rows\", 200, \"display.max_columns\",200)\n",
    "np.set_printoptions(precision=1, suppress=True)"
   ]
  },
  {
   "cell_type": "code",
   "execution_count": 2,
   "metadata": {},
   "outputs": [],
   "source": [
    "t=364"
   ]
  },
  {
   "cell_type": "markdown",
   "metadata": {},
   "source": [
    "# Primera parte"
   ]
  },
  {
   "cell_type": "markdown",
   "metadata": {},
   "source": [
    "En la primera parte se realiza la lectura de los datos y pequeñas transformaciones para su posterior uso.  \n",
    "Las entradas son las compras y los envíos recibidos procedentes de otras bases  \n",
    "Nombre de las columnas:  \n",
    "0 : producto (PN)  \n",
    "2 : punto de pedido fijado por la empresa, tambien llamado stock mínimo (SM)   \n",
    "3 : cantidades compradas (en este caso)  \n",
    "5 : precio por unidad  \n",
    "5555: tiempo de reaprovisionamiento  "
   ]
  },
  {
   "cell_type": "code",
   "execution_count": 3,
   "metadata": {},
   "outputs": [],
   "source": [
    "Compras=pd.read_csv('ENTRADAS.ALMACEN.csv').rename(columns={'0':0, '2':2, '1':1, '3':3, '5':5, '5555':5555})"
   ]
  },
  {
   "cell_type": "code",
   "execution_count": 4,
   "metadata": {},
   "outputs": [],
   "source": [
    "Consumos=pd.read_csv('SALIDAS.ALMACEN.csv').rename(columns={'0':0, '1':1, '3':3})"
   ]
  },
  {
   "cell_type": "markdown",
   "metadata": {},
   "source": [
    "Las salidas son la suma de los consumos y envíos a otras bases  \n",
    "0 : producto (PN)  \n",
    "1 : fecha de consumo  \n",
    "3 : cantidad consumida (en este caso)  \n",
    "33 : consumo medio diario  \n",
    "6 : punto de pedido  \n",
    "66: punto de pedido, más stock de seguridad  \n",
    "8: stock de seguridad (s)  "
   ]
  },
  {
   "cell_type": "markdown",
   "metadata": {},
   "source": [
    "El consumo total por producto  \n",
    "Añadimos una columna con el consumo medio diario de cada producto"
   ]
  },
  {
   "cell_type": "code",
   "execution_count": 5,
   "metadata": {},
   "outputs": [],
   "source": [
    "Consumo_total=Consumos.loc[:,[0,3]].groupby([0]).sum().reset_index() \n",
    "Consumo_total[33]=Consumo_total[3]/t"
   ]
  },
  {
   "cell_type": "markdown",
   "metadata": {},
   "source": [
    "Se extrae el número de veces que se ha realizado una compra"
   ]
  },
  {
   "cell_type": "code",
   "execution_count": 6,
   "metadata": {},
   "outputs": [],
   "source": [
    "numero_compras=Compras.loc[:,[0,5555]].groupby([0]).count().reset_index()"
   ]
  },
  {
   "cell_type": "markdown",
   "metadata": {},
   "source": [
    "Se guardan los indices para su posterior uso"
   ]
  },
  {
   "cell_type": "code",
   "execution_count": 7,
   "metadata": {},
   "outputs": [],
   "source": [
    "numero_compras_indices=Compras.loc[:,[0,5555]].groupby([0]).count()"
   ]
  },
  {
   "cell_type": "markdown",
   "metadata": {},
   "source": [
    "El tiempo medio que tarda la compra en llegar al almacén"
   ]
  },
  {
   "cell_type": "code",
   "execution_count": 8,
   "metadata": {},
   "outputs": [],
   "source": [
    "tiempo_medio_compras=round(Compras.loc[:,[0,5555]].groupby([0]).mean().reset_index(), 2)"
   ]
  },
  {
   "cell_type": "markdown",
   "metadata": {},
   "source": [
    "Se agrupan los datos de compras y consumos por producto"
   ]
  },
  {
   "cell_type": "code",
   "execution_count": 9,
   "metadata": {},
   "outputs": [],
   "source": [
    "Consumos_compra=(Compras.loc[:,[0,2]].merge(Consumo_total, on=0)).merge(tiempo_medio_compras, on=0)"
   ]
  },
  {
   "cell_type": "markdown",
   "metadata": {},
   "source": [
    "Se define una función para obtener el stock de seguridad  \n",
    "Esta función extrae el día en el cual ha llegado almenos el 95% de las compras de cada producto"
   ]
  },
  {
   "cell_type": "code",
   "execution_count": 10,
   "metadata": {},
   "outputs": [],
   "source": [
    "def get_safe(d):           \n",
    "    s=np.sort(d)          \n",
    "    p=int(0.95 * len(d))\n",
    "    return s[p]"
   ]
  },
  {
   "cell_type": "markdown",
   "metadata": {},
   "source": [
    "Se aplica el resultado de la función a los datos"
   ]
  },
  {
   "cell_type": "code",
   "execution_count": 11,
   "metadata": {},
   "outputs": [],
   "source": [
    "Nivel_seguridad_95=Compras.loc[:,[0,5555]].groupby([0]).agg(get_safe).rename(columns={5555: 55}).reset_index() "
   ]
  },
  {
   "cell_type": "markdown",
   "metadata": {},
   "source": [
    "Se agrupan datos"
   ]
  },
  {
   "cell_type": "code",
   "execution_count": 12,
   "metadata": {},
   "outputs": [],
   "source": [
    "s=Consumos_compra.merge(Nivel_seguridad_95, on=0)"
   ]
  },
  {
   "cell_type": "markdown",
   "metadata": {},
   "source": [
    "El stock de seguridad, es el resultado de multiplicar el día en el que ha llegado  \n",
    "El 95% de las compras de un producto por el consumo medio anualde ese mismo producto."
   ]
  },
  {
   "cell_type": "code",
   "execution_count": 13,
   "metadata": {},
   "outputs": [],
   "source": [
    "s[8]=s[55]*s[33] "
   ]
  },
  {
   "cell_type": "markdown",
   "metadata": {},
   "source": [
    "Se extrae el nivel de seguridad de cada producto y se eliminan dublicados"
   ]
  },
  {
   "cell_type": "code",
   "execution_count": 14,
   "metadata": {},
   "outputs": [],
   "source": [
    "s=s.loc[:,[0,8]]\n",
    "s=s.drop_duplicates(subset=None,keep='first',inplace=False)"
   ]
  },
  {
   "cell_type": "markdown",
   "metadata": {},
   "source": [
    "Se incorpora el precio medio de cada productos para hacer los calculos posteriores  \n",
    "Se elimnan dublicados  \n",
    "Se eliminan los NAs"
   ]
  },
  {
   "cell_type": "code",
   "execution_count": 15,
   "metadata": {},
   "outputs": [],
   "source": [
    "Consumos_compra=Consumos_compra.merge(round(Compras.loc[:,[0,5]].groupby([0]).mean().reset_index(),2),on=0)\n",
    "Consumos_compra=Consumos_compra.drop_duplicates(subset=None,keep='first',inplace=False)\n",
    "Consumos_compra=Consumos_compra.dropna()"
   ]
  },
  {
   "cell_type": "markdown",
   "metadata": {},
   "source": [
    "Se muestra información de los producto que se emplean como ejemplo"
   ]
  },
  {
   "cell_type": "code",
   "execution_count": 16,
   "metadata": {},
   "outputs": [
    {
     "data": {
      "text/html": [
       "<div>\n",
       "<style scoped>\n",
       "    .dataframe tbody tr th:only-of-type {\n",
       "        vertical-align: middle;\n",
       "    }\n",
       "\n",
       "    .dataframe tbody tr th {\n",
       "        vertical-align: top;\n",
       "    }\n",
       "\n",
       "    .dataframe thead th {\n",
       "        text-align: right;\n",
       "    }\n",
       "</style>\n",
       "<table border=\"1\" class=\"dataframe\">\n",
       "  <thead>\n",
       "    <tr style=\"text-align: right;\">\n",
       "      <th></th>\n",
       "      <th>PN</th>\n",
       "      <th>SM</th>\n",
       "      <th>Consumo anual</th>\n",
       "    </tr>\n",
       "  </thead>\n",
       "  <tbody>\n",
       "    <tr>\n",
       "      <th>75</th>\n",
       "      <td>1274</td>\n",
       "      <td>432.0</td>\n",
       "      <td>1570</td>\n",
       "    </tr>\n",
       "    <tr>\n",
       "      <th>98</th>\n",
       "      <td>1620</td>\n",
       "      <td>42.0</td>\n",
       "      <td>150</td>\n",
       "    </tr>\n",
       "    <tr>\n",
       "      <th>115</th>\n",
       "      <td>2033</td>\n",
       "      <td>1.0</td>\n",
       "      <td>1</td>\n",
       "    </tr>\n",
       "  </tbody>\n",
       "</table>\n",
       "</div>"
      ],
      "text/plain": [
       "       PN     SM  Consumo anual\n",
       "75   1274  432.0           1570\n",
       "98   1620   42.0            150\n",
       "115  2033    1.0              1"
      ]
     },
     "execution_count": 16,
     "metadata": {},
     "output_type": "execute_result"
    }
   ],
   "source": [
    "Consumos_compra[Consumos_compra[0].isin([1274,1620,2033])].loc[:,[0,2,3]].rename(columns={0:'PN',2:'SM',3:'Consumo anual'})"
   ]
  },
  {
   "cell_type": "markdown",
   "metadata": {},
   "source": [
    "# Segunda parte"
   ]
  },
  {
   "cell_type": "markdown",
   "metadata": {},
   "source": [
    "Tiempo que tarda una compra en llegar al almacén desde que se da la orden de compra  \n",
    "Se extrae el número de veces que se ha realizado una compra  \n",
    "Se convierte el numero de compras a array de numpy     "
   ]
  },
  {
   "cell_type": "code",
   "execution_count": 17,
   "metadata": {},
   "outputs": [],
   "source": [
    "tiempo_llegada=Compras.loc[:,[0,5555]] \n",
    "numero_compras=Compras.loc[:,[0,5555]].groupby([0]).count()\n",
    "numero_compras=np.array(numero_compras)"
   ]
  },
  {
   "cell_type": "markdown",
   "metadata": {},
   "source": [
    "Se crea un dataframe donde los ptoductos  \n",
    "son los indices y los dias del año son las columnas.  \n",
    "Extraemos las colmunas, estas son los dias del año  \n",
    "Posteriormente se convierten los datos a array de numpy    "
   ]
  },
  {
   "cell_type": "code",
   "execution_count": 18,
   "metadata": {},
   "outputs": [],
   "source": [
    "frecuencia_llegada=pd.crosstab(index=tiempo_llegada[0], columns=tiempo_llegada[5555]) \n",
    "dias=np.array(frecuencia_llegada.columns)\n",
    "frecuencia_llegada=np.array(frecuencia_llegada) "
   ]
  },
  {
   "cell_type": "markdown",
   "metadata": {},
   "source": [
    "La probabilidad de que llegue un pedido en un dia determinado"
   ]
  },
  {
   "cell_type": "code",
   "execution_count": 19,
   "metadata": {},
   "outputs": [],
   "source": [
    "probabilidad_llegada=frecuencia_llegada/numero_compras "
   ]
  },
  {
   "cell_type": "markdown",
   "metadata": {},
   "source": [
    "Guardamos las probabilidades  \n",
    "Fijamos los indices como nombre de los productos de tal forma que el indice coincida con el identificador del producto"
   ]
  },
  {
   "cell_type": "code",
   "execution_count": 20,
   "metadata": {},
   "outputs": [],
   "source": [
    "probabilidad_llegada=pd.DataFrame(probabilidad_llegada, index=numero_compras_indices.index, columns=dias) "
   ]
  },
  {
   "cell_type": "markdown",
   "metadata": {},
   "source": [
    "Probabilidad del tiempo de llegada (días) de las compras"
   ]
  },
  {
   "cell_type": "code",
   "execution_count": 21,
   "metadata": {},
   "outputs": [
    {
     "data": {
      "text/html": [
       "<div>\n",
       "<style scoped>\n",
       "    .dataframe tbody tr th:only-of-type {\n",
       "        vertical-align: middle;\n",
       "    }\n",
       "\n",
       "    .dataframe tbody tr th {\n",
       "        vertical-align: top;\n",
       "    }\n",
       "\n",
       "    .dataframe thead th {\n",
       "        text-align: right;\n",
       "    }\n",
       "</style>\n",
       "<table border=\"1\" class=\"dataframe\">\n",
       "  <thead>\n",
       "    <tr style=\"text-align: right;\">\n",
       "      <th></th>\n",
       "      <th>0</th>\n",
       "      <th>1</th>\n",
       "      <th>2</th>\n",
       "      <th>3</th>\n",
       "      <th>4</th>\n",
       "      <th>5</th>\n",
       "      <th>6</th>\n",
       "      <th>7</th>\n",
       "      <th>8</th>\n",
       "      <th>9</th>\n",
       "      <th>10</th>\n",
       "      <th>11</th>\n",
       "      <th>12</th>\n",
       "      <th>13</th>\n",
       "      <th>14</th>\n",
       "    </tr>\n",
       "    <tr>\n",
       "      <th>0</th>\n",
       "      <th></th>\n",
       "      <th></th>\n",
       "      <th></th>\n",
       "      <th></th>\n",
       "      <th></th>\n",
       "      <th></th>\n",
       "      <th></th>\n",
       "      <th></th>\n",
       "      <th></th>\n",
       "      <th></th>\n",
       "      <th></th>\n",
       "      <th></th>\n",
       "      <th></th>\n",
       "      <th></th>\n",
       "      <th></th>\n",
       "    </tr>\n",
       "  </thead>\n",
       "  <tbody>\n",
       "    <tr>\n",
       "      <th>1274</th>\n",
       "      <td>0.00</td>\n",
       "      <td>0.0</td>\n",
       "      <td>0.0</td>\n",
       "      <td>0.0</td>\n",
       "      <td>0.0</td>\n",
       "      <td>0.333333</td>\n",
       "      <td>0.333333</td>\n",
       "      <td>0.00</td>\n",
       "      <td>0.00</td>\n",
       "      <td>0.0</td>\n",
       "      <td>0.0</td>\n",
       "      <td>0.0</td>\n",
       "      <td>0.0</td>\n",
       "      <td>0.0</td>\n",
       "      <td>0.333333</td>\n",
       "    </tr>\n",
       "    <tr>\n",
       "      <th>1620</th>\n",
       "      <td>0.25</td>\n",
       "      <td>0.0</td>\n",
       "      <td>0.0</td>\n",
       "      <td>0.0</td>\n",
       "      <td>0.0</td>\n",
       "      <td>0.250000</td>\n",
       "      <td>0.000000</td>\n",
       "      <td>0.25</td>\n",
       "      <td>0.25</td>\n",
       "      <td>0.0</td>\n",
       "      <td>0.0</td>\n",
       "      <td>0.0</td>\n",
       "      <td>0.0</td>\n",
       "      <td>0.0</td>\n",
       "      <td>0.000000</td>\n",
       "    </tr>\n",
       "    <tr>\n",
       "      <th>2033</th>\n",
       "      <td>0.00</td>\n",
       "      <td>0.0</td>\n",
       "      <td>0.0</td>\n",
       "      <td>0.0</td>\n",
       "      <td>0.0</td>\n",
       "      <td>0.000000</td>\n",
       "      <td>0.500000</td>\n",
       "      <td>0.00</td>\n",
       "      <td>0.00</td>\n",
       "      <td>0.5</td>\n",
       "      <td>0.0</td>\n",
       "      <td>0.0</td>\n",
       "      <td>0.0</td>\n",
       "      <td>0.0</td>\n",
       "      <td>0.000000</td>\n",
       "    </tr>\n",
       "  </tbody>\n",
       "</table>\n",
       "</div>"
      ],
      "text/plain": [
       "        0    1    2    3    4         5         6     7     8    9    10   11  \\\n",
       "0                                                                               \n",
       "1274  0.00  0.0  0.0  0.0  0.0  0.333333  0.333333  0.00  0.00  0.0  0.0  0.0   \n",
       "1620  0.25  0.0  0.0  0.0  0.0  0.250000  0.000000  0.25  0.25  0.0  0.0  0.0   \n",
       "2033  0.00  0.0  0.0  0.0  0.0  0.000000  0.500000  0.00  0.00  0.5  0.0  0.0   \n",
       "\n",
       "       12   13        14  \n",
       "0                         \n",
       "1274  0.0  0.0  0.333333  \n",
       "1620  0.0  0.0  0.000000  \n",
       "2033  0.0  0.0  0.000000  "
      ]
     },
     "execution_count": 21,
     "metadata": {},
     "output_type": "execute_result"
    }
   ],
   "source": [
    "probabilidad_llegada.loc[[1274,1620,2033]].iloc[:,0:15] "
   ]
  },
  {
   "cell_type": "markdown",
   "metadata": {},
   "source": [
    "El tiempo de llegada de cada producto por su probabilidad para obtener la media probabilistica  "
   ]
  },
  {
   "cell_type": "code",
   "execution_count": 22,
   "metadata": {},
   "outputs": [],
   "source": [
    "probabilidad_llegada_dias=probabilidad_llegada*dias"
   ]
  },
  {
   "cell_type": "markdown",
   "metadata": {},
   "source": [
    "Media probabilistica del tiempo de reaprovisionamiento"
   ]
  },
  {
   "cell_type": "code",
   "execution_count": 23,
   "metadata": {},
   "outputs": [],
   "source": [
    "probabilidad_media_llegada=pd.DataFrame(probabilidad_llegada_dias.cumsum(axis=1)[probabilidad_llegada_dias.columns[-1]]).reset_index()  "
   ]
  },
  {
   "cell_type": "markdown",
   "metadata": {},
   "source": [
    "Se parte de los datos comunes del apartado anterior"
   ]
  },
  {
   "cell_type": "code",
   "execution_count": 24,
   "metadata": {},
   "outputs": [],
   "source": [
    "Consumos_compra_probabilidad=Consumos_compra.loc[:,[0,2,3,33,5]] "
   ]
  },
  {
   "cell_type": "markdown",
   "metadata": {},
   "source": [
    "Se añade el tiempo de llegadas de las compras obtenido con la esperanza matematica y se le asigna el mismo nombre  \"5555\""
   ]
  },
  {
   "cell_type": "code",
   "execution_count": 25,
   "metadata": {},
   "outputs": [],
   "source": [
    "Consumos_compra_probabilidad=Consumos_compra_probabilidad.merge(probabilidad_media_llegada, on=0).rename(columns={30:5555})"
   ]
  },
  {
   "cell_type": "code",
   "execution_count": 26,
   "metadata": {},
   "outputs": [],
   "source": [
    "Consumos_compra_probabilidad[6]=Consumos_compra_probabilidad[33] * Consumos_compra_probabilidad[5555]"
   ]
  },
  {
   "cell_type": "markdown",
   "metadata": {},
   "source": [
    "Se añade el stock de seguridad (columna 8) a los nuevo datos  \n",
    "Se suma el stock de seguridad al nuevo punto de pedido"
   ]
  },
  {
   "cell_type": "code",
   "execution_count": 27,
   "metadata": {},
   "outputs": [],
   "source": [
    "Consumos_compra_probabilidad=Consumos_compra_probabilidad.merge(s, on=0) "
   ]
  },
  {
   "cell_type": "code",
   "execution_count": 28,
   "metadata": {},
   "outputs": [],
   "source": [
    "Consumos_compra_probabilidad[66]=np.ceil(Consumos_compra_probabilidad[6] + Consumos_compra_probabilidad[8])"
   ]
  },
  {
   "cell_type": "markdown",
   "metadata": {},
   "source": [
    "Los puntos de pedido calculados con media probabilistica para los artículos 1274, 1620 y 2033"
   ]
  },
  {
   "cell_type": "code",
   "execution_count": 29,
   "metadata": {},
   "outputs": [
    {
     "data": {
      "text/html": [
       "<div>\n",
       "<style scoped>\n",
       "    .dataframe tbody tr th:only-of-type {\n",
       "        vertical-align: middle;\n",
       "    }\n",
       "\n",
       "    .dataframe tbody tr th {\n",
       "        vertical-align: top;\n",
       "    }\n",
       "\n",
       "    .dataframe thead th {\n",
       "        text-align: right;\n",
       "    }\n",
       "</style>\n",
       "<table border=\"1\" class=\"dataframe\">\n",
       "  <thead>\n",
       "    <tr style=\"text-align: right;\">\n",
       "      <th></th>\n",
       "      <th>PN</th>\n",
       "      <th>SM</th>\n",
       "      <th>ΣCi</th>\n",
       "      <th>C</th>\n",
       "      <th>Tp</th>\n",
       "      <th>s</th>\n",
       "      <th>Rp</th>\n",
       "    </tr>\n",
       "  </thead>\n",
       "  <tbody>\n",
       "    <tr>\n",
       "      <th>25</th>\n",
       "      <td>1274</td>\n",
       "      <td>432.0</td>\n",
       "      <td>1570</td>\n",
       "      <td>4.313187</td>\n",
       "      <td>8.333333</td>\n",
       "      <td>60.384615</td>\n",
       "      <td>97.0</td>\n",
       "    </tr>\n",
       "    <tr>\n",
       "      <th>35</th>\n",
       "      <td>1620</td>\n",
       "      <td>42.0</td>\n",
       "      <td>150</td>\n",
       "      <td>0.412088</td>\n",
       "      <td>5.000000</td>\n",
       "      <td>3.296703</td>\n",
       "      <td>6.0</td>\n",
       "    </tr>\n",
       "    <tr>\n",
       "      <th>41</th>\n",
       "      <td>2033</td>\n",
       "      <td>1.0</td>\n",
       "      <td>1</td>\n",
       "      <td>0.002747</td>\n",
       "      <td>7.500000</td>\n",
       "      <td>0.024725</td>\n",
       "      <td>1.0</td>\n",
       "    </tr>\n",
       "  </tbody>\n",
       "</table>\n",
       "</div>"
      ],
      "text/plain": [
       "      PN     SM   ΣCi         C        Tp          s    Rp\n",
       "25  1274  432.0  1570  4.313187  8.333333  60.384615  97.0\n",
       "35  1620   42.0   150  0.412088  5.000000   3.296703   6.0\n",
       "41  2033    1.0     1  0.002747  7.500000   0.024725   1.0"
      ]
     },
     "execution_count": 29,
     "metadata": {},
     "output_type": "execute_result"
    }
   ],
   "source": [
    "Consumos_compra_probabilidad[Consumos_compra_probabilidad[0].isin([1274,1620,2033])].rename(columns={0:'PN',2:'SM',3:'ΣCi', 33: 'C',5555: 'Tp',8: 's', 66: 'Rp'}).drop([5,6], axis=1)"
   ]
  },
  {
   "cell_type": "markdown",
   "metadata": {},
   "source": [
    "Se cuantifica el posible ahorro de costes, al multiplicar el precio de costes por la diferencia entre el stock minimo fijado por la empresa y el nuevo punto de pedido, esto es el capital invertido en el exceso de stock  \n",
    "Se eliminan las filas duplicadas"
   ]
  },
  {
   "cell_type": "code",
   "execution_count": 30,
   "metadata": {},
   "outputs": [],
   "source": [
    "Consumos_compra_probabilidad[7]= (Consumos_compra_probabilidad[2] - Consumos_compra_probabilidad[66]) * Consumos_compra_probabilidad[5]"
   ]
  },
  {
   "cell_type": "code",
   "execution_count": 31,
   "metadata": {},
   "outputs": [],
   "source": [
    "Consumos_compra_probabilidad=Consumos_compra_probabilidad.drop_duplicates(subset=None,keep='first',inplace=False)"
   ]
  },
  {
   "cell_type": "markdown",
   "metadata": {},
   "source": [
    " Suma del valor del exceso de stock"
   ]
  },
  {
   "cell_type": "code",
   "execution_count": 32,
   "metadata": {},
   "outputs": [
    {
     "data": {
      "text/plain": [
       "576093.49"
      ]
     },
     "execution_count": 32,
     "metadata": {},
     "output_type": "execute_result"
    }
   ],
   "source": [
    "np.sum(Consumos_compra_probabilidad[7])"
   ]
  },
  {
   "cell_type": "markdown",
   "metadata": {},
   "source": [
    "Se selecciona una muestra  \n",
    "El punto de pedido y coste de capital invertido para Rp (ejemplo)"
   ]
  },
  {
   "cell_type": "code",
   "execution_count": 33,
   "metadata": {},
   "outputs": [
    {
     "data": {
      "text/html": [
       "<div>\n",
       "<style scoped>\n",
       "    .dataframe tbody tr th:only-of-type {\n",
       "        vertical-align: middle;\n",
       "    }\n",
       "\n",
       "    .dataframe tbody tr th {\n",
       "        vertical-align: top;\n",
       "    }\n",
       "\n",
       "    .dataframe thead th {\n",
       "        text-align: right;\n",
       "    }\n",
       "</style>\n",
       "<table border=\"1\" class=\"dataframe\">\n",
       "  <thead>\n",
       "    <tr style=\"text-align: right;\">\n",
       "      <th></th>\n",
       "      <th>PN</th>\n",
       "      <th>SM</th>\n",
       "      <th>ConsumoTotal</th>\n",
       "      <th>ConsumoMedioDiario</th>\n",
       "      <th>PrecioMedio</th>\n",
       "      <th>TiempoMedio p</th>\n",
       "      <th>Rp</th>\n",
       "      <th>s</th>\n",
       "      <th>Rp con s</th>\n",
       "      <th>CI Rp</th>\n",
       "    </tr>\n",
       "  </thead>\n",
       "  <tbody>\n",
       "    <tr>\n",
       "      <th>25</th>\n",
       "      <td>1274</td>\n",
       "      <td>432.0</td>\n",
       "      <td>1570</td>\n",
       "      <td>4.313187</td>\n",
       "      <td>17.57</td>\n",
       "      <td>8.333333</td>\n",
       "      <td>35.943223</td>\n",
       "      <td>60.384615</td>\n",
       "      <td>97.0</td>\n",
       "      <td>5885.95</td>\n",
       "    </tr>\n",
       "    <tr>\n",
       "      <th>35</th>\n",
       "      <td>1620</td>\n",
       "      <td>42.0</td>\n",
       "      <td>150</td>\n",
       "      <td>0.412088</td>\n",
       "      <td>112.00</td>\n",
       "      <td>5.000000</td>\n",
       "      <td>2.060440</td>\n",
       "      <td>3.296703</td>\n",
       "      <td>6.0</td>\n",
       "      <td>4032.00</td>\n",
       "    </tr>\n",
       "    <tr>\n",
       "      <th>41</th>\n",
       "      <td>2033</td>\n",
       "      <td>1.0</td>\n",
       "      <td>1</td>\n",
       "      <td>0.002747</td>\n",
       "      <td>21.20</td>\n",
       "      <td>7.500000</td>\n",
       "      <td>0.020604</td>\n",
       "      <td>0.024725</td>\n",
       "      <td>1.0</td>\n",
       "      <td>0.00</td>\n",
       "    </tr>\n",
       "  </tbody>\n",
       "</table>\n",
       "</div>"
      ],
      "text/plain": [
       "      PN     SM  ConsumoTotal  ConsumoMedioDiario  PrecioMedio  TiempoMedio p  \\\n",
       "25  1274  432.0          1570            4.313187        17.57       8.333333   \n",
       "35  1620   42.0           150            0.412088       112.00       5.000000   \n",
       "41  2033    1.0             1            0.002747        21.20       7.500000   \n",
       "\n",
       "           Rp          s  Rp con s    CI Rp  \n",
       "25  35.943223  60.384615      97.0  5885.95  \n",
       "35   2.060440   3.296703       6.0  4032.00  \n",
       "41   0.020604   0.024725       1.0     0.00  "
      ]
     },
     "execution_count": 33,
     "metadata": {},
     "output_type": "execute_result"
    }
   ],
   "source": [
    "MuestraRp=Consumos_compra_probabilidad[Consumos_compra_probabilidad[0].isin([1274, 1620, 2033])]\n",
    "MuestraRp=MuestraRp.rename(columns={0:\"PN\", 2:\"SM\",8: 's', 3:\"ConsumoTotal\",33:\"ConsumoMedioDiario\", 5:\"PrecioMedio\", 6:\"Rp\",66:\"Rp con s\", 7:\"CI Rp\", 5555:\"TiempoMedio p\"})\n",
    "MuestraRp "
   ]
  },
  {
   "cell_type": "markdown",
   "metadata": {},
   "source": [
    "Resultado de aplicar el punto de pedido con media probabilistica para todos los datos y su correspondiente exceso de capital invertido para cada PN (cabecera)"
   ]
  },
  {
   "cell_type": "code",
   "execution_count": 34,
   "metadata": {},
   "outputs": [
    {
     "data": {
      "text/html": [
       "<div>\n",
       "<style scoped>\n",
       "    .dataframe tbody tr th:only-of-type {\n",
       "        vertical-align: middle;\n",
       "    }\n",
       "\n",
       "    .dataframe tbody tr th {\n",
       "        vertical-align: top;\n",
       "    }\n",
       "\n",
       "    .dataframe thead th {\n",
       "        text-align: right;\n",
       "    }\n",
       "</style>\n",
       "<table border=\"1\" class=\"dataframe\">\n",
       "  <thead>\n",
       "    <tr style=\"text-align: right;\">\n",
       "      <th></th>\n",
       "      <th>PN</th>\n",
       "      <th>SM</th>\n",
       "      <th>ConsumoTotal</th>\n",
       "      <th>ConsumoMedioDiario</th>\n",
       "      <th>PrecioMedio</th>\n",
       "      <th>TiempoMedio p</th>\n",
       "      <th>Rp</th>\n",
       "      <th>s</th>\n",
       "      <th>Rp con s</th>\n",
       "      <th>CI Rp</th>\n",
       "    </tr>\n",
       "  </thead>\n",
       "  <tbody>\n",
       "    <tr>\n",
       "      <th>0</th>\n",
       "      <td>1</td>\n",
       "      <td>2.0</td>\n",
       "      <td>3</td>\n",
       "      <td>0.008242</td>\n",
       "      <td>178.56</td>\n",
       "      <td>14.000000</td>\n",
       "      <td>0.115385</td>\n",
       "      <td>0.115385</td>\n",
       "      <td>1.0</td>\n",
       "      <td>178.56</td>\n",
       "    </tr>\n",
       "    <tr>\n",
       "      <th>1</th>\n",
       "      <td>10</td>\n",
       "      <td>1.0</td>\n",
       "      <td>9</td>\n",
       "      <td>0.024725</td>\n",
       "      <td>83.10</td>\n",
       "      <td>11.500000</td>\n",
       "      <td>0.284341</td>\n",
       "      <td>0.370879</td>\n",
       "      <td>1.0</td>\n",
       "      <td>0.00</td>\n",
       "    </tr>\n",
       "    <tr>\n",
       "      <th>2</th>\n",
       "      <td>36</td>\n",
       "      <td>10.0</td>\n",
       "      <td>70</td>\n",
       "      <td>0.192308</td>\n",
       "      <td>44.88</td>\n",
       "      <td>9.400000</td>\n",
       "      <td>1.807692</td>\n",
       "      <td>2.884615</td>\n",
       "      <td>5.0</td>\n",
       "      <td>224.40</td>\n",
       "    </tr>\n",
       "    <tr>\n",
       "      <th>3</th>\n",
       "      <td>89</td>\n",
       "      <td>4.0</td>\n",
       "      <td>44</td>\n",
       "      <td>0.120879</td>\n",
       "      <td>310.00</td>\n",
       "      <td>6.222222</td>\n",
       "      <td>0.752137</td>\n",
       "      <td>2.175824</td>\n",
       "      <td>3.0</td>\n",
       "      <td>310.00</td>\n",
       "    </tr>\n",
       "    <tr>\n",
       "      <th>4</th>\n",
       "      <td>92</td>\n",
       "      <td>4.0</td>\n",
       "      <td>28</td>\n",
       "      <td>0.076923</td>\n",
       "      <td>830.00</td>\n",
       "      <td>3.333333</td>\n",
       "      <td>0.256410</td>\n",
       "      <td>0.461538</td>\n",
       "      <td>1.0</td>\n",
       "      <td>2490.00</td>\n",
       "    </tr>\n",
       "  </tbody>\n",
       "</table>\n",
       "</div>"
      ],
      "text/plain": [
       "   PN    SM  ConsumoTotal  ConsumoMedioDiario  PrecioMedio  TiempoMedio p  \\\n",
       "0   1   2.0             3            0.008242       178.56      14.000000   \n",
       "1  10   1.0             9            0.024725        83.10      11.500000   \n",
       "2  36  10.0            70            0.192308        44.88       9.400000   \n",
       "3  89   4.0            44            0.120879       310.00       6.222222   \n",
       "4  92   4.0            28            0.076923       830.00       3.333333   \n",
       "\n",
       "         Rp         s  Rp con s    CI Rp  \n",
       "0  0.115385  0.115385       1.0   178.56  \n",
       "1  0.284341  0.370879       1.0     0.00  \n",
       "2  1.807692  2.884615       5.0   224.40  \n",
       "3  0.752137  2.175824       3.0   310.00  \n",
       "4  0.256410  0.461538       1.0  2490.00  "
      ]
     },
     "execution_count": 34,
     "metadata": {},
     "output_type": "execute_result"
    }
   ],
   "source": [
    "Consumos_compra_probabilidad.rename(columns={0:\"PN\", 2:\"SM\",8: 's', 3:\"ConsumoTotal\",33:\"ConsumoMedioDiario\", 5:\"PrecioMedio\", 6:\"Rp\",66:\"Rp con s\", 7:\"CI Rp\", 5555:\"TiempoMedio p\"}).head(5)"
   ]
  },
  {
   "cell_type": "markdown",
   "metadata": {},
   "source": [
    "# Tercera parte\n"
   ]
  },
  {
   "cell_type": "markdown",
   "metadata": {},
   "source": [
    "Se crea una fucion para pasa los datos de DataFrame a array de Numpy\n",
    "Obtenemos los identificadores de fila y columna\n",
    "se crea una matriz con el tamaño adecuado. La matriz tiene tantas filas como el mayor\n",
    "identificador de fila más uno y tantas columnas como el mayor identificador de columna más uno. \n",
    "Después rellenamos la matriz. Las celdas a las que no se asigne valor quedarán a 0."
   ]
  },
  {
   "cell_type": "code",
   "execution_count": 35,
   "metadata": {},
   "outputs": [],
   "source": [
    "def df_to_numpy(dataFrame):\n",
    "    rowNames=np.array(dataFrame.index)\n",
    "    colNames=np.array(dataFrame.columns)\n",
    "    theMatrix=np.zeros((np.max(rowNames)+1,np.max(colNames)+1))\n",
    "    for curRow in rowNames:\n",
    "        theMatrix[curRow,colNames]=np.array(dataFrame.loc[[curRow]])\n",
    "    return theMatrix"
   ]
  },
  {
   "cell_type": "markdown",
   "metadata": {},
   "source": [
    "Se establece longitud de los datos   \n",
    "Posteriomente se cruzan los datos de consumo con los días del año para todos los productos"
   ]
  },
  {
   "cell_type": "code",
   "execution_count": 36,
   "metadata": {},
   "outputs": [],
   "source": [
    "NUM_PRODUCTS=len(Consumos_compra) "
   ]
  },
  {
   "cell_type": "code",
   "execution_count": 37,
   "metadata": {},
   "outputs": [],
   "source": [
    "Consumo_dia_cros=Consumos.groupby([0,1])[3].sum().unstack().fillna(0) "
   ]
  },
  {
   "cell_type": "markdown",
   "metadata": {},
   "source": [
    "Se crea un DataFrame sólo con los precios  \n",
    "Los precios son extraidos de los datos de los apartados anteriores"
   ]
  },
  {
   "cell_type": "code",
   "execution_count": 38,
   "metadata": {},
   "outputs": [],
   "source": [
    "Precios=pd.DataFrame(Consumos_compra_probabilidad.set_index([0])[5]) "
   ]
  },
  {
   "cell_type": "markdown",
   "metadata": {},
   "source": [
    "Se convierten los datos de probabilidad, consumo y precio a array de numpy a traves de la funcion definida anteriormente"
   ]
  },
  {
   "cell_type": "code",
   "execution_count": 39,
   "metadata": {},
   "outputs": [],
   "source": [
    "timeProb=df_to_numpy(probabilidad_llegada)  \n",
    "theConsumption=df_to_numpy(Consumo_dia_cros)\n",
    "thePrices=df_to_numpy(pd.DataFrame(Precios))"
   ]
  },
  {
   "cell_type": "markdown",
   "metadata": {},
   "source": [
    " Se extrae la columna con el precio medio y se borra el resto."
   ]
  },
  {
   "cell_type": "code",
   "execution_count": 40,
   "metadata": {},
   "outputs": [],
   "source": [
    "thePrices=np.delete(thePrices,[0,1,2,3,4],1).flatten()"
   ]
  },
  {
   "cell_type": "markdown",
   "metadata": {},
   "source": [
    "La siguiente funcion permite poder extraer aquellos productos con datos relevantes ordenando los productos en funcion de su relevancia, meintras más observaciones, más relevante"
   ]
  },
  {
   "cell_type": "code",
   "execution_count": 41,
   "metadata": {},
   "outputs": [],
   "source": [
    "def get_interesting_products(theConsumption,timeProb,thePrices,numProducts):\n",
    "    minShape=min(timeProb.shape[0],theConsumption.shape[0],thePrices.shape[0])\n",
    "    sumConsumption=(np.sum(timeProb[:minShape,:],axis=1)>0)*np.sum(theConsumption[:minShape,:]!=0,axis=1) #\n",
    "    theIndices=np.argsort(sumConsumption)[::-1]\n",
    "    return theIndices[:numProducts]"
   ]
  },
  {
   "cell_type": "markdown",
   "metadata": {},
   "source": [
    "Productos interesantes  \n",
    "En este caso son todos los productos que tengan datos de consumos y compras y un valor de stock mínimo (SM) fijado por la empresa  \n",
    "Posteriormente, fijamos semilla para poder reproducir los resultados"
   ]
  },
  {
   "cell_type": "code",
   "execution_count": 42,
   "metadata": {},
   "outputs": [],
   "source": [
    "myProducts=get_interesting_products(theConsumption,timeProb,thePrices,NUM_PRODUCTS) "
   ]
  },
  {
   "cell_type": "code",
   "execution_count": 43,
   "metadata": {},
   "outputs": [],
   "source": [
    "random= np.random.seed(0)"
   ]
  },
  {
   "cell_type": "markdown",
   "metadata": {},
   "source": [
    "Se define el punto de pedido dinámico  \n",
    "Para todo el periodo temporal  \n",
    "Si el tiempo es un posible período de entrega hacemos el cálculo. \n",
    "Se suma el consumo para para cada tiempo  \n",
    "Se multiplica la probabilidad por el consumo por el consumo acumulado de cada tiempo  \n",
    "Al resultado se le añade el stock de seguridad, con probabilidad de rotura de stock del 5%  \n",
    "Se va actualizando el punto de pedido en cada interación  \n",
    "Si no lo es, la probabilitat es 0 por lo que no hace falta sumar nada.  \n",
    "El resultado final se redondea a la unidad superior  "
   ]
  },
  {
   "cell_type": "code",
   "execution_count": 44,
   "metadata": {},
   "outputs": [],
   "source": [
    "random \n",
    "def purchase_point(idProd,curTime,timeProb,theConsumption):\n",
    "    Snew=0\n",
    "    for t in range(curTime +1):\n",
    "        if t<timeProb.shape[1]:\n",
    "            innerSum=np.sum(theConsumption[idProd,max(0,curTime-t+1):curTime + 1])\n",
    "            Snew=Snew+timeProb[idProd,min(t,timeProb.shape[1]-1)]*innerSum\n",
    "            innerSumStock=np.sum(theConsumption[idProd,max(0,curTime-(int(t*0.95))+1):curTime + 1])\n",
    "            Snew=Snew+timeProb[idProd,min(int(t*0.95),timeProb.shape[1]-1)]*innerSumStock\n",
    "        \n",
    "    return  np.ceil(Snew)"
   ]
  },
  {
   "cell_type": "markdown",
   "metadata": {},
   "source": [
    "Obtenemos los indentificadores de los productos interesantes  \n",
    "Creamos una matriz de ceros donde almacenar los resultados. \n",
    "El número de filases el número de productos seleccionados y el número de columnas es el número de períodos de tiempo existentes \n",
    "Para cada producto interesante  \n",
    "Para todos los períodos de tiempo  \n",
    "Calculamos el punto de pedido y lo almacenamos en la matriz de resultados"
   ]
  },
  {
   "cell_type": "code",
   "execution_count": 45,
   "metadata": {},
   "outputs": [],
   "source": [
    "random\n",
    "theProducts=get_interesting_products(theConsumption,timeProb,thePrices,NUM_PRODUCTS) \n",
    "theResults=np.zeros((NUM_PRODUCTS,theConsumption.shape[1]))\n",
    "for iProduct,curProduct in enumerate(theProducts):\n",
    "    for curTime in range(theConsumption.shape[1]):\n",
    "        theResults[iProduct,curTime]=purchase_point(curProduct,curTime,timeProb,theConsumption)"
   ]
  },
  {
   "cell_type": "markdown",
   "metadata": {},
   "source": [
    " Se renombra el resultado de la funcion  para su posterior uso"
   ]
  },
  {
   "cell_type": "code",
   "execution_count": 46,
   "metadata": {},
   "outputs": [],
   "source": [
    "purchase_point_theResults=theResults"
   ]
  },
  {
   "cell_type": "markdown",
   "metadata": {},
   "source": [
    "Como hay tantos resultados como días de año, se hace la media para tener uno orientativo"
   ]
  },
  {
   "cell_type": "code",
   "execution_count": 47,
   "metadata": {},
   "outputs": [],
   "source": [
    "SnewP_Pedido=np.ceil(np.mean(theResults, axis=1))"
   ]
  },
  {
   "cell_type": "markdown",
   "metadata": {},
   "source": [
    "El reultado a 31/12, el último resultado del punto de pedido dinámico  \n",
    "Se unifican los resultados con el nombre del producto  \n",
    "La primera columna es el nombre del producto, la segunda es la media del punto de pedido y la ultima es último valor\n",
    "del punto de pedido, esto es el punto de pedido a 31/12"
   ]
  },
  {
   "cell_type": "code",
   "execution_count": 48,
   "metadata": {},
   "outputs": [],
   "source": [
    "SnewP_PedUlti=( theResults[:,-1]) "
   ]
  },
  {
   "cell_type": "code",
   "execution_count": 49,
   "metadata": {},
   "outputs": [],
   "source": [
    "SnewP_Pedido=np.c_[myProducts,SnewP_Pedido,SnewP_PedUlti] "
   ]
  },
  {
   "cell_type": "markdown",
   "metadata": {},
   "source": [
    "Guardamos los resultados en un data frame"
   ]
  },
  {
   "cell_type": "code",
   "execution_count": 50,
   "metadata": {},
   "outputs": [],
   "source": [
    "Rd_df=pd.DataFrame(np.c_[myProducts,theResults]) "
   ]
  },
  {
   "cell_type": "markdown",
   "metadata": {},
   "source": [
    "Resultados obtenidos para Rd para diferentes t."
   ]
  },
  {
   "cell_type": "code",
   "execution_count": 51,
   "metadata": {},
   "outputs": [
    {
     "data": {
      "text/html": [
       "<div>\n",
       "<style scoped>\n",
       "    .dataframe tbody tr th:only-of-type {\n",
       "        vertical-align: middle;\n",
       "    }\n",
       "\n",
       "    .dataframe tbody tr th {\n",
       "        vertical-align: top;\n",
       "    }\n",
       "\n",
       "    .dataframe thead th {\n",
       "        text-align: right;\n",
       "    }\n",
       "</style>\n",
       "<table border=\"1\" class=\"dataframe\">\n",
       "  <thead>\n",
       "    <tr style=\"text-align: right;\">\n",
       "      <th></th>\n",
       "      <th>34</th>\n",
       "      <th>60</th>\n",
       "      <th>90</th>\n",
       "      <th>333</th>\n",
       "      <th>364</th>\n",
       "    </tr>\n",
       "  </thead>\n",
       "  <tbody>\n",
       "    <tr>\n",
       "      <th>15</th>\n",
       "      <td>16.0</td>\n",
       "      <td>384.0</td>\n",
       "      <td>0.0</td>\n",
       "      <td>84.0</td>\n",
       "      <td>58.0</td>\n",
       "    </tr>\n",
       "    <tr>\n",
       "      <th>201</th>\n",
       "      <td>15.0</td>\n",
       "      <td>0.0</td>\n",
       "      <td>63.0</td>\n",
       "      <td>4.0</td>\n",
       "      <td>0.0</td>\n",
       "    </tr>\n",
       "    <tr>\n",
       "      <th>2230</th>\n",
       "      <td>2.0</td>\n",
       "      <td>0.0</td>\n",
       "      <td>0.0</td>\n",
       "      <td>0.0</td>\n",
       "      <td>0.0</td>\n",
       "    </tr>\n",
       "  </tbody>\n",
       "</table>\n",
       "</div>"
      ],
      "text/plain": [
       "       34     60    90    333   364\n",
       "15    16.0  384.0   0.0  84.0  58.0\n",
       "201   15.0    0.0  63.0   4.0   0.0\n",
       "2230   2.0    0.0   0.0   0.0   0.0"
      ]
     },
     "execution_count": 51,
     "metadata": {},
     "output_type": "execute_result"
    }
   ],
   "source": [
    "Rd_df[Rd_df[0].isin([1274,1620,2033])].loc[:,[34,60,90,333,364]] \n"
   ]
  },
  {
   "cell_type": "markdown",
   "metadata": {},
   "source": [
    "Guardamos los datos en un DataFrame  \n",
    "Remplazamos los ceros por unos ya que el punto de pedido no puede ser inferior a la unidad, segun la politica de la empresa, para evitar la rotura de stock"
   ]
  },
  {
   "cell_type": "code",
   "execution_count": 52,
   "metadata": {},
   "outputs": [],
   "source": [
    "MuestraRd=pd.DataFrame(SnewP_Pedido, columns=['PN', 'Rd','Rd 31-12']).replace({'Rd 31-12':{0:1}})"
   ]
  },
  {
   "cell_type": "markdown",
   "metadata": {},
   "source": [
    "Se junta diferentes datos y se crean las columnas de capital invertido/ahorro para la última metodología  \n",
    "Posteriormente se escogen los productos del ejemplo"
   ]
  },
  {
   "cell_type": "code",
   "execution_count": 53,
   "metadata": {},
   "outputs": [],
   "source": [
    "MuestraRd=Consumos_compra_probabilidad.loc[:,[0,2,3,5,66,7]].rename(columns={0:'PN'}).merge(MuestraRd, on='PN')\n",
    "MuestraRd[77]=MuestraRd[5]*(MuestraRd[2] - MuestraRd['Rd'])\n",
    "MuestraRd[777]=MuestraRd[5]*(MuestraRd[2] - MuestraRd['Rd 31-12'])"
   ]
  },
  {
   "cell_type": "markdown",
   "metadata": {},
   "source": [
    "Puntos de pedidos obtenidos con las diferentes metodologías,   \n",
    "SM es el fijado por la empresa  \n",
    "Rp es el obtenido con medias probabilistica  \n",
    "Rd es la media del punto de pedido dinámico  "
   ]
  },
  {
   "cell_type": "code",
   "execution_count": 54,
   "metadata": {},
   "outputs": [
    {
     "data": {
      "text/html": [
       "<div>\n",
       "<style scoped>\n",
       "    .dataframe tbody tr th:only-of-type {\n",
       "        vertical-align: middle;\n",
       "    }\n",
       "\n",
       "    .dataframe tbody tr th {\n",
       "        vertical-align: top;\n",
       "    }\n",
       "\n",
       "    .dataframe thead th {\n",
       "        text-align: right;\n",
       "    }\n",
       "</style>\n",
       "<table border=\"1\" class=\"dataframe\">\n",
       "  <thead>\n",
       "    <tr style=\"text-align: right;\">\n",
       "      <th></th>\n",
       "      <th>PN</th>\n",
       "      <th>SM</th>\n",
       "      <th>Rp</th>\n",
       "      <th>Rd</th>\n",
       "    </tr>\n",
       "  </thead>\n",
       "  <tbody>\n",
       "    <tr>\n",
       "      <th>25</th>\n",
       "      <td>1274</td>\n",
       "      <td>432.0</td>\n",
       "      <td>97.0</td>\n",
       "      <td>69.0</td>\n",
       "    </tr>\n",
       "    <tr>\n",
       "      <th>35</th>\n",
       "      <td>1620</td>\n",
       "      <td>42.0</td>\n",
       "      <td>6.0</td>\n",
       "      <td>5.0</td>\n",
       "    </tr>\n",
       "    <tr>\n",
       "      <th>41</th>\n",
       "      <td>2033</td>\n",
       "      <td>1.0</td>\n",
       "      <td>1.0</td>\n",
       "      <td>1.0</td>\n",
       "    </tr>\n",
       "  </tbody>\n",
       "</table>\n",
       "</div>"
      ],
      "text/plain": [
       "      PN     SM    Rp    Rd\n",
       "25  1274  432.0  97.0  69.0\n",
       "35  1620   42.0   6.0   5.0\n",
       "41  2033    1.0   1.0   1.0"
      ]
     },
     "execution_count": 54,
     "metadata": {},
     "output_type": "execute_result"
    }
   ],
   "source": [
    "MuestraRd[MuestraRd['PN'].isin([1274,1620,2033])].loc[:,['PN',2,66,'Rd']].rename(columns={2:'SM', 66: 'Rp'})"
   ]
  },
  {
   "cell_type": "markdown",
   "metadata": {},
   "source": [
    "Capital invertido en SM en relación a Rp y la media de Rd."
   ]
  },
  {
   "cell_type": "code",
   "execution_count": 55,
   "metadata": {},
   "outputs": [
    {
     "data": {
      "text/html": [
       "<div>\n",
       "<style scoped>\n",
       "    .dataframe tbody tr th:only-of-type {\n",
       "        vertical-align: middle;\n",
       "    }\n",
       "\n",
       "    .dataframe tbody tr th {\n",
       "        vertical-align: top;\n",
       "    }\n",
       "\n",
       "    .dataframe thead th {\n",
       "        text-align: right;\n",
       "    }\n",
       "</style>\n",
       "<table border=\"1\" class=\"dataframe\">\n",
       "  <thead>\n",
       "    <tr style=\"text-align: right;\">\n",
       "      <th></th>\n",
       "      <th>PN</th>\n",
       "      <th>SM</th>\n",
       "      <th>P</th>\n",
       "      <th>Rp</th>\n",
       "      <th>CIp</th>\n",
       "      <th>Rd</th>\n",
       "      <th>CId</th>\n",
       "    </tr>\n",
       "  </thead>\n",
       "  <tbody>\n",
       "    <tr>\n",
       "      <th>25</th>\n",
       "      <td>1274</td>\n",
       "      <td>432.0</td>\n",
       "      <td>17.57</td>\n",
       "      <td>97.0</td>\n",
       "      <td>5885.95</td>\n",
       "      <td>69.0</td>\n",
       "      <td>6377.91</td>\n",
       "    </tr>\n",
       "    <tr>\n",
       "      <th>35</th>\n",
       "      <td>1620</td>\n",
       "      <td>42.0</td>\n",
       "      <td>112.00</td>\n",
       "      <td>6.0</td>\n",
       "      <td>4032.00</td>\n",
       "      <td>5.0</td>\n",
       "      <td>4144.00</td>\n",
       "    </tr>\n",
       "    <tr>\n",
       "      <th>41</th>\n",
       "      <td>2033</td>\n",
       "      <td>1.0</td>\n",
       "      <td>21.20</td>\n",
       "      <td>1.0</td>\n",
       "      <td>0.00</td>\n",
       "      <td>1.0</td>\n",
       "      <td>0.00</td>\n",
       "    </tr>\n",
       "  </tbody>\n",
       "</table>\n",
       "</div>"
      ],
      "text/plain": [
       "      PN     SM       P    Rp      CIp    Rd      CId\n",
       "25  1274  432.0   17.57  97.0  5885.95  69.0  6377.91\n",
       "35  1620   42.0  112.00   6.0  4032.00   5.0  4144.00\n",
       "41  2033    1.0   21.20   1.0     0.00   1.0     0.00"
      ]
     },
     "execution_count": 55,
     "metadata": {},
     "output_type": "execute_result"
    }
   ],
   "source": [
    "MuestraRd[MuestraRd['PN'].isin([1274,1620,2033])].rename(columns={2:'SM', 66: 'Rp', 5:'P', 7:'CIp', 77:'CId'}).loc[:,['PN','SM','P', 'Rp','CIp','Rd','CId']]"
   ]
  },
  {
   "cell_type": "markdown",
   "metadata": {},
   "source": [
    "Capital invertido en SM en relación a Rp y al último valor de Rd (31/12) ."
   ]
  },
  {
   "cell_type": "code",
   "execution_count": 56,
   "metadata": {},
   "outputs": [
    {
     "data": {
      "text/html": [
       "<div>\n",
       "<style scoped>\n",
       "    .dataframe tbody tr th:only-of-type {\n",
       "        vertical-align: middle;\n",
       "    }\n",
       "\n",
       "    .dataframe tbody tr th {\n",
       "        vertical-align: top;\n",
       "    }\n",
       "\n",
       "    .dataframe thead th {\n",
       "        text-align: right;\n",
       "    }\n",
       "</style>\n",
       "<table border=\"1\" class=\"dataframe\">\n",
       "  <thead>\n",
       "    <tr style=\"text-align: right;\">\n",
       "      <th></th>\n",
       "      <th>PN</th>\n",
       "      <th>SM</th>\n",
       "      <th>P</th>\n",
       "      <th>Rp</th>\n",
       "      <th>CIp</th>\n",
       "      <th>Rd 31-12</th>\n",
       "      <th>CId a 31/12</th>\n",
       "    </tr>\n",
       "  </thead>\n",
       "  <tbody>\n",
       "    <tr>\n",
       "      <th>25</th>\n",
       "      <td>1274</td>\n",
       "      <td>432.0</td>\n",
       "      <td>17.57</td>\n",
       "      <td>97.0</td>\n",
       "      <td>5885.95</td>\n",
       "      <td>58.0</td>\n",
       "      <td>6571.18</td>\n",
       "    </tr>\n",
       "    <tr>\n",
       "      <th>35</th>\n",
       "      <td>1620</td>\n",
       "      <td>42.0</td>\n",
       "      <td>112.00</td>\n",
       "      <td>6.0</td>\n",
       "      <td>4032.00</td>\n",
       "      <td>1.0</td>\n",
       "      <td>4592.00</td>\n",
       "    </tr>\n",
       "    <tr>\n",
       "      <th>41</th>\n",
       "      <td>2033</td>\n",
       "      <td>1.0</td>\n",
       "      <td>21.20</td>\n",
       "      <td>1.0</td>\n",
       "      <td>0.00</td>\n",
       "      <td>1.0</td>\n",
       "      <td>0.00</td>\n",
       "    </tr>\n",
       "  </tbody>\n",
       "</table>\n",
       "</div>"
      ],
      "text/plain": [
       "      PN     SM       P    Rp      CIp  Rd 31-12  CId a 31/12\n",
       "25  1274  432.0   17.57  97.0  5885.95      58.0      6571.18\n",
       "35  1620   42.0  112.00   6.0  4032.00       1.0      4592.00\n",
       "41  2033    1.0   21.20   1.0     0.00       1.0         0.00"
      ]
     },
     "execution_count": 56,
     "metadata": {},
     "output_type": "execute_result"
    }
   ],
   "source": [
    "MuestraRd[MuestraRd['PN'].isin([1274,1620,2033])].rename(columns={2:'SM', 66: 'Rp', 5:'P', 7:'CIp', 777:'CId a 31/12'}).loc[:,['PN','SM','P', 'Rp','CIp','Rd 31-12','CId a 31/12']]"
   ]
  },
  {
   "cell_type": "markdown",
   "metadata": {},
   "source": [
    "Capital totales invertido  en el grupo B."
   ]
  },
  {
   "cell_type": "code",
   "execution_count": 57,
   "metadata": {},
   "outputs": [
    {
     "data": {
      "text/plain": [
       "CIp          471263.08\n",
       "CId          490343.20\n",
       "CId 31/12    486309.74\n",
       "dtype: float64"
      ]
     },
     "execution_count": 57,
     "metadata": {},
     "output_type": "execute_result"
    }
   ],
   "source": [
    "np.sum((MuestraRd[((MuestraRd[2]>1) & (MuestraRd[3]<50))].loc[:,[7,77,777]].rename(columns={7:'CIp',77: 'CId',777: 'CId 31/12'})), axis=0)"
   ]
  },
  {
   "cell_type": "markdown",
   "metadata": {},
   "source": [
    "Capital invertido en el grupo A."
   ]
  },
  {
   "cell_type": "code",
   "execution_count": 58,
   "metadata": {},
   "outputs": [
    {
     "data": {
      "text/plain": [
       "CIp          107635.07\n",
       "CId          127101.58\n",
       "CId 31/12    138589.32\n",
       "dtype: float64"
      ]
     },
     "execution_count": 58,
     "metadata": {},
     "output_type": "execute_result"
    }
   ],
   "source": [
    "np.sum((MuestraRd[((MuestraRd[2]>1) & (MuestraRd[3]>=50))].loc[:,[7,77,777]].rename(columns={7:'CIp',77: 'CId',777: 'CId 31/12'})), axis=0)"
   ]
  },
  {
   "cell_type": "markdown",
   "metadata": {},
   "source": [
    "Capital invertido en el grupo A y B."
   ]
  },
  {
   "cell_type": "code",
   "execution_count": 59,
   "metadata": {},
   "outputs": [
    {
     "data": {
      "text/plain": [
       "CIp          576093.49\n",
       "CId          616572.21\n",
       "CId 31/12    606026.51\n",
       "dtype: float64"
      ]
     },
     "execution_count": 59,
     "metadata": {},
     "output_type": "execute_result"
    }
   ],
   "source": [
    "np.sum((MuestraRd.loc[:,[7,77,777]].rename(columns={7:'CIp',77: 'CId',777: 'CId 31/12'})), axis=0)"
   ]
  },
  {
   "cell_type": "markdown",
   "metadata": {},
   "source": [
    "# Simulación"
   ]
  },
  {
   "cell_type": "markdown",
   "metadata": {},
   "source": [
    "En la simulacion están todos los datos, en el documento están exluidos los del primer grupo (con un punto de pedido igual a una unidad).  \n",
    "Se exluyen en el documento porque, la política de la empresa establece que lo mínimo que debe haber en stock es una unidad, con independencia del coste"
   ]
  },
  {
   "cell_type": "markdown",
   "metadata": {},
   "source": [
    "Se defini la función de costes  \n",
    "Se fija:  \n",
    "El precio  \n",
    "El porcentaje del precio total del pedido.  \n",
    "El porcentaje del precio total como coste estimado del almacenamiento.  \n",
    "Qopt es la cantidad a pedir  \n",
    "El costInEuros es coste total de realizar un pedido y almacenarlo"
   ]
  },
  {
   "cell_type": "code",
   "execution_count": 60,
   "metadata": {},
   "outputs": [],
   "source": [
    "\n",
    "def coste(idProduct,meanStock,orderCount):      \n",
    "    productPrice= thePrices[idProduct] \n",
    "    orderPct=0.03                 \n",
    "    manCost=0.17                   \n",
    "    Qopt=np.sqrt((2 * np.sum(theConsumption[idProduct])* ( thePrices[idProduct]* 0.03)) / (thePrices[idProduct] * 0.17))\n",
    "    costInEuros=meanStock*productPrice*(1+manCost) + orderCount*(productPrice*orderPct)*Qopt  \n",
    "    return costInEuros"
   ]
  },
  {
   "cell_type": "markdown",
   "metadata": {},
   "source": [
    "### Punto de pedido dinámico"
   ]
  },
  {
   "cell_type": "markdown",
   "metadata": {},
   "source": [
    "Se comienza con el punto de pedido dinámico en la simulación  \n",
    "Se contrasta el punto de pedido dinámico y se le aplica la función de costes"
   ]
  },
  {
   "cell_type": "markdown",
   "metadata": {},
   "source": [
    "Inicializamos el stock a 0  \n",
    "Inicializamos la lista donde guardaremos todos los stocks   \n",
    "Inicializamos el contador de pedidos para saber cuántos pedidos se han hecho.  \n",
    "Usaremos esta variable de este modo: si vale -1 es que no hay pedido; si vale 0\n",
    "es que ha llegado un pedido y si vale >0 es el número de días que faltan para\n",
    "que llegue el pedido.  \n",
    "theOrder representa el número de unidades que se han pedido. Sólo es válido\n",
    "si theOrder no vale -1. \n",
    "Para cada instante de tiempo :\n",
    "Restamos el consumo al stock.  \n",
    " Si no hay ningún pedido, calculamos el stock mínimo. Si hay\n",
    " algún pedido hecho pero no ha llegado, el stock seguirá por debajo del mínimo\n",
    " por lo que lanzaríamos continuamente nuevos pedidos.\n",
    " se iguala el stock mínimo al de punto de pedido  \n",
    " Si el stock está por debajo del mínimo (y no hay pedido en curso) lanzamos pedido.\n",
    " se genera el tiempo de entrega alaeatorio.\n",
    " La cantidad de productos que se pide es la optima .  \n",
    " Sumamos uno al contador de pedidos  \n",
    " Si ya había un pedido en curso:  \n",
    " Indicamos que falta un día menos para que llegue\n",
    " Comprobamos si ha llegado el pedido. El pedido llega si theOrder==0 o -1.\n",
    " el \"-1\" en este caso sólo se producirá si theOrder valía 0 antes de la\n",
    " resta y eso sólo es posible si el tiempo de entrega aleatoria ha dado 0, cosa\n",
    " que sólo pasa en productos con entrega inmediata.  \n",
    " Si llega un pedido: Aumentamos el stock y lo indicamos.\n",
    " Guardamos el stock tras cada iteración  \n",
    "  "
   ]
  },
  {
   "cell_type": "code",
   "execution_count": 61,
   "metadata": {},
   "outputs": [],
   "source": [
    "np.random.seed(0)\n",
    "def get_random_order(theValues,theProbabilities):  \n",
    "                    newProbabilities=theProbabilities.copy()\n",
    "                    newProbabilities/=np.sum(newProbabilities)\n",
    "                    return np.random.choice(theValues,p=newProbabilities)\n",
    "\n",
    "def simulacion(idProduct,theConsumption,timeProb):\n",
    "    theStock= 0\n",
    "    stockHistory=[]\n",
    "    orderCount=0\n",
    "   \n",
    "    theOrder = -1\n",
    "    \n",
    "    quantityOrder=-1\n",
    "    \n",
    "    sumQtyOrder=0\n",
    "    \n",
    "    for curTime in range(theConsumption.shape[1]):\n",
    "        \n",
    "        theStock=theStock -theConsumption[idProduct,curTime]\n",
    "       \n",
    "        if theOrder==-1:\n",
    "            minStock = purchase_point(idProduct,curTime,timeProb,theConsumption)\n",
    "            if theStock<=minStock:\n",
    "                \n",
    "                theOrder=get_random_order(range(timeProb.shape[1]),timeProb[idProduct,:]) \n",
    "                quantityOrder=np.sqrt((2 * np.sum(theConsumption[idProduct])* (thePrices[idProduct]* 0.03)) / (thePrices[idProduct] * 0.17)) \n",
    "                sumQtyOrder=sumQtyOrder+quantityOrder\n",
    "                orderCount=orderCount+1\n",
    "\n",
    "        \n",
    "        else:\n",
    "            theOrder=theOrder-1\n",
    "            if theOrder==0 or theOrder==-1 and theStock<=minStock:\n",
    "                theStock=theStock+quantityOrder\n",
    "                theOrder=-1\n",
    "                quantityOrder=-1\n",
    "        stockHistory.append(theStock)   \n",
    "        \n",
    "    return stockHistory,orderCount,sumQtyOrder"
   ]
  },
  {
   "cell_type": "markdown",
   "metadata": {},
   "source": [
    "En la siguiente parte de la simulación:  \n",
    "Comenzamos con las variables que nos interesan\n",
    "Para cada producto:  \n",
    "Aplicamos la función de simulacion del punto de pedido que se esta probando  \n",
    "Guardamos el stock historico, el número de veces que se ha realizado la compra y la cantidad comprada  \n",
    "Igualamos el stock inicial al mínimo registrado para parir de ese punto  \n",
    "Se suma el historico al inicial como punto de partida  \n",
    "Posteriormente se aplica la función de costes  \n"
   ]
  },
  {
   "cell_type": "code",
   "execution_count": 62,
   "metadata": {},
   "outputs": [],
   "source": [
    "np.random.seed(0) \n",
    "\n",
    "initialStockSnew=[] \n",
    "stockHistoryd=[]\n",
    "allDatad=[]\n",
    "for curProduct in theProducts: \n",
    "    curData=[]\n",
    "         \n",
    "    stockHistory,orderCount,sumQtyOrder= simulacion(curProduct,theConsumption,timeProb)     \n",
    "        \n",
    "    initialStock= -np.min(stockHistory)\n",
    "            \n",
    "    if initialStock < 0:\n",
    "        initialStock = 0\n",
    "        print(\"Revisa inicialstock\", K, curProduct)\n",
    "    stockHistory =stockHistory + initialStock\n",
    "       \n",
    "    curData.append(coste(curProduct,np.mean(stockHistory),orderCount))\n",
    "\n",
    "    allDatad.append(curData)\n",
    "    initialStockSnew.append(initialStock) \n",
    "    stockHistoryd.append(stockHistory)\n",
    "\n",
    "allDatad =np.array(allDatad)\n",
    "    "
   ]
  },
  {
   "cell_type": "code",
   "execution_count": 63,
   "metadata": {},
   "outputs": [
    {
     "data": {
      "text/plain": [
       "array([1954685.3])"
      ]
     },
     "execution_count": 63,
     "metadata": {},
     "output_type": "execute_result"
    }
   ],
   "source": [
    "sum(allDatad)"
   ]
  },
  {
   "cell_type": "markdown",
   "metadata": {},
   "source": [
    "### punto de pedido con media probabilistica"
   ]
  },
  {
   "cell_type": "markdown",
   "metadata": {},
   "source": [
    "Se repite el proceso anterior pero probando el punto de pedido obtenido con las probabilidades"
   ]
  },
  {
   "cell_type": "code",
   "execution_count": 64,
   "metadata": {},
   "outputs": [],
   "source": [
    "np.random.seed(0)\n",
    "def get_random_order(theValues,theProbabilities): \n",
    "                    newProbabilities=theProbabilities.copy()\n",
    "                    newProbabilities/=np.sum(newProbabilities)\n",
    "                    return np.random.choice(theValues,p=newProbabilities)\n",
    "\n",
    "def simulacion(idProduct,theConsumption,timeProb):\n",
    "    theStock= 0\n",
    "    stockHistory=[]\n",
    "    orderCount=0\n",
    "    theOrder = -1 \n",
    "    quantityOrder=-1\n",
    "    \n",
    "    sumQtyOrder=0\n",
    "    \n",
    "    for curTime in range(theConsumption.shape[1]):\n",
    "        \n",
    "        theStock=theStock -theConsumption[idProduct,curTime]\n",
    "        if theOrder==-1:\n",
    "            minStock = np.array(Consumos_compra_probabilidad[Consumos_compra_probabilidad[0]==idProduct][66])  \n",
    "            if theStock<=minStock:\n",
    "                \n",
    "                theOrder=get_random_order(range(timeProb.shape[1]),timeProb[idProduct,:])\n",
    "                quantityOrder=np.sqrt((2 * np.sum(theConsumption[idProduct])* (thePrices[idProduct]* 0.03)) / (thePrices[idProduct] * 0.17)) \n",
    "                sumQtyOrder=sumQtyOrder+quantityOrder\n",
    "                orderCount=orderCount+1\n",
    "\n",
    "        else:\n",
    "            theOrder=theOrder-1\n",
    "            if theOrder==0 or theOrder==-1 and theStock<=minStock:\n",
    "                theStock=theStock+quantityOrder\n",
    "                theOrder=-1\n",
    "                quantityOrder=-1\n",
    "        stockHistory.append(theStock)\n",
    "        \n",
    "        \n",
    "    return stockHistory,orderCount,sumQtyOrder"
   ]
  },
  {
   "cell_type": "code",
   "execution_count": 65,
   "metadata": {},
   "outputs": [],
   "source": [
    "np.random.seed(0)\n",
    "\n",
    "initialStockSnew1=[]\n",
    "stockHistoryp=[]\n",
    "allDatap=[]\n",
    "for curProduct in theProducts:\n",
    "    curData=[]\n",
    "    \n",
    "    stockHistory,orderCount,sumQtyOrder= simulacion(curProduct,theConsumption,timeProb)  #\n",
    "                \n",
    "        \n",
    "    initialStock= -np.min(stockHistory)\n",
    "        \n",
    "    if initialStock < 0:\n",
    "        initialStock = 0\n",
    "        print(\"Revisa inicialstock\", K, curProduct)\n",
    "    stockHistory =stockHistory + initialStock\n",
    "       \n",
    "    curData.append(coste(curProduct,np.mean(stockHistory),orderCount))\n",
    "     \n",
    "    allDatap.append(curData)\n",
    "    initialStockSnew1.append(initialStock) \n",
    "    stockHistoryp.append(stockHistory)\n",
    "    \n",
    "allDatap =np.array(allDatap)"
   ]
  },
  {
   "cell_type": "code",
   "execution_count": 66,
   "metadata": {},
   "outputs": [
    {
     "data": {
      "text/plain": [
       "array([2064214.9])"
      ]
     },
     "execution_count": 66,
     "metadata": {},
     "output_type": "execute_result"
    }
   ],
   "source": [
    "sum(allDatap)"
   ]
  },
  {
   "cell_type": "markdown",
   "metadata": {},
   "source": [
    "### punto de pedido fijado por la empresa (SM)"
   ]
  },
  {
   "cell_type": "markdown",
   "metadata": {},
   "source": [
    "Se repite el mismo proceso anterior probando SM"
   ]
  },
  {
   "cell_type": "code",
   "execution_count": 67,
   "metadata": {},
   "outputs": [],
   "source": [
    "np.random.seed(0)\n",
    "def get_random_order(theValues,theProbabilities):\n",
    "                    newProbabilities=theProbabilities.copy()\n",
    "                    newProbabilities/=np.sum(newProbabilities)\n",
    "                    return np.random.choice(theValues,p=newProbabilities)\n",
    "\n",
    "def simulacion(idProduct,theConsumption,timeProb):\n",
    "    theStock= 0\n",
    "    stockHistory=[]\n",
    "    orderCount=0\n",
    "    theOrder = -1 \n",
    "    quantityOrder=-1\n",
    "    \n",
    "    sumQtyOrder=0\n",
    "    \n",
    "    for curTime in range(theConsumption.shape[1]):\n",
    "        \n",
    "        theStock=theStock -theConsumption[idProduct,curTime]\n",
    "        if theOrder==-1:\n",
    "            minStock = np.array(Consumos_compra_probabilidad[Consumos_compra_probabilidad[0]==idProduct][2])  \n",
    "            if theStock<=minStock:\n",
    "                \n",
    "                \n",
    "                theOrder=get_random_order(range(timeProb.shape[1]),timeProb[idProduct,:])\n",
    "                \n",
    "                quantityOrder= np.sqrt((2 * np.sum(theConsumption[idProduct])* (0 + thePrices[idProduct]* 0.03) / thePrices[idProduct] * 0.17))\n",
    "                \n",
    "                sumQtyOrder=sumQtyOrder+quantityOrder\n",
    "               \n",
    "                orderCount=orderCount+1\n",
    "\n",
    "        else:\n",
    "            theOrder=theOrder-1\n",
    "            if theOrder==0 or theOrder==-1 and theStock<=minStock:\n",
    "                theStock=theStock+quantityOrder\n",
    "                theOrder=-1\n",
    "                quantityOrder=-1\n",
    "        stockHistory.append(theStock)\n",
    "        \n",
    "        \n",
    "    return stockHistory,orderCount,sumQtyOrder"
   ]
  },
  {
   "cell_type": "code",
   "execution_count": 68,
   "metadata": {},
   "outputs": [],
   "source": [
    "np.random.seed(0)\n",
    "\n",
    "initialStockSnew1=[]\n",
    "stockHistorySnew=[]\n",
    "allDataSM=[]\n",
    "for curProduct in theProducts:\n",
    "    curData=[]\n",
    "            \n",
    "    stockHistory,orderCount,sumQtyOrder= simulacion(curProduct,theConsumption,timeProb)  #\n",
    "                \n",
    "        \n",
    "    initialStock= -np.min(stockHistory)\n",
    "        \n",
    "        \n",
    "    if initialStock < 0:\n",
    "        initialStock = 0\n",
    "        print(\"Revisa inicialstock\", K, curProduct)\n",
    "    stockHistory =stockHistory + initialStock\n",
    "       \n",
    "    curData.append(coste(curProduct,np.mean(stockHistory),orderCount))\n",
    "\n",
    "    allDataSM.append(curData)\n",
    "    initialStockSnew1.append(initialStock) \n",
    "    stockHistorySnew.append(stockHistory)\n",
    "    \n",
    "allDataSM =np.array(allDataSM)"
   ]
  },
  {
   "cell_type": "code",
   "execution_count": 69,
   "metadata": {},
   "outputs": [
    {
     "data": {
      "text/plain": [
       "array([2446825.8])"
      ]
     },
     "execution_count": 69,
     "metadata": {},
     "output_type": "execute_result"
    }
   ],
   "source": [
    "sum(allDataSM)"
   ]
  },
  {
   "cell_type": "markdown",
   "metadata": {},
   "source": [
    "Se guardan los resultados de la función de costes  \n",
    "Se identifican los productos con SM =1, porque serán exluidos como ya se ha comentado anteriormente.  \n",
    "'pn_mayor_1' son los productos del grupo B  \n",
    "'pn_mayor_1_mayor' son los productos del grupo A"
   ]
  },
  {
   "cell_type": "code",
   "execution_count": 70,
   "metadata": {},
   "outputs": [],
   "source": [
    "allda0=pd.DataFrame(np.c_[myProducts,allDatad,allDatap,allDataSM]).set_index(myProducts) "
   ]
  },
  {
   "cell_type": "code",
   "execution_count": 71,
   "metadata": {},
   "outputs": [],
   "source": [
    "pn_1=Consumos_compra_probabilidad[((Consumos_compra_probabilidad[2]==1 & (Consumos_compra_probabilidad[3]<50)))] "
   ]
  },
  {
   "cell_type": "code",
   "execution_count": 72,
   "metadata": {},
   "outputs": [],
   "source": [
    "pn_mayor_1=Consumos_compra_probabilidad[((Consumos_compra_probabilidad[2]>1) & (Consumos_compra_probabilidad[3]<50))]"
   ]
  },
  {
   "cell_type": "code",
   "execution_count": 73,
   "metadata": {},
   "outputs": [],
   "source": [
    "pn_mayor_1_mayor=Consumos_compra_probabilidad[((Consumos_compra_probabilidad[2]>1) & (Consumos_compra_probabilidad[3]>=50))]"
   ]
  },
  {
   "cell_type": "markdown",
   "metadata": {},
   "source": [
    "Se suma de los costes de compra y almacenamiento para el grupo B."
   ]
  },
  {
   "cell_type": "code",
   "execution_count": 74,
   "metadata": {},
   "outputs": [
    {
     "data": {
      "text/plain": [
       "0            37715428.0\n",
       "Costes Rd      806808.0\n",
       "Costes Rp      813388.0\n",
       "Costes SM     1056656.0\n",
       "dtype: float64"
      ]
     },
     "execution_count": 74,
     "metadata": {},
     "output_type": "execute_result"
    }
   ],
   "source": [
    "np.sum(np.round(allda0[allda0[0].isin(pn_mayor_1[0])])).rename(index={1: 'Costes Rd', 2:'Costes Rp', 3: 'Costes SM'})"
   ]
  },
  {
   "cell_type": "markdown",
   "metadata": {},
   "source": [
    "Se suma de los costes de compra y almacenamiento para el grupo A."
   ]
  },
  {
   "cell_type": "code",
   "execution_count": 75,
   "metadata": {},
   "outputs": [
    {
     "data": {
      "text/plain": [
       "0            7364456.0\n",
       "Costes Rd     448292.0\n",
       "Costes Rp     452883.0\n",
       "Costes SM     551805.0\n",
       "dtype: float64"
      ]
     },
     "execution_count": 75,
     "metadata": {},
     "output_type": "execute_result"
    }
   ],
   "source": [
    "np.sum(np.round(allda0[allda0[0].isin(pn_mayor_1_mayor[0])])).rename(index={1: 'Costes Rd', 2:'Costes Rp', 3: 'Costes SM'})"
   ]
  },
  {
   "cell_type": "markdown",
   "metadata": {},
   "source": [
    "Costes de compra y almacenamiento  para algunos productos del grupo B."
   ]
  },
  {
   "cell_type": "code",
   "execution_count": 76,
   "metadata": {},
   "outputs": [
    {
     "data": {
      "text/html": [
       "<div>\n",
       "<style scoped>\n",
       "    .dataframe tbody tr th:only-of-type {\n",
       "        vertical-align: middle;\n",
       "    }\n",
       "\n",
       "    .dataframe tbody tr th {\n",
       "        vertical-align: top;\n",
       "    }\n",
       "\n",
       "    .dataframe thead th {\n",
       "        text-align: right;\n",
       "    }\n",
       "</style>\n",
       "<table border=\"1\" class=\"dataframe\">\n",
       "  <thead>\n",
       "    <tr style=\"text-align: right;\">\n",
       "      <th></th>\n",
       "      <th>PN</th>\n",
       "      <th>Costes Rd</th>\n",
       "      <th>Costes Rp</th>\n",
       "      <th>Costes SM</th>\n",
       "    </tr>\n",
       "  </thead>\n",
       "  <tbody>\n",
       "    <tr>\n",
       "      <th>43709</th>\n",
       "      <td>43709.0</td>\n",
       "      <td>1686.0</td>\n",
       "      <td>1841.0</td>\n",
       "      <td>1870.0</td>\n",
       "    </tr>\n",
       "    <tr>\n",
       "      <th>9693</th>\n",
       "      <td>9693.0</td>\n",
       "      <td>650.0</td>\n",
       "      <td>615.0</td>\n",
       "      <td>985.0</td>\n",
       "    </tr>\n",
       "    <tr>\n",
       "      <th>15500</th>\n",
       "      <td>15500.0</td>\n",
       "      <td>3222.0</td>\n",
       "      <td>1974.0</td>\n",
       "      <td>4242.0</td>\n",
       "    </tr>\n",
       "    <tr>\n",
       "      <th>30973</th>\n",
       "      <td>30973.0</td>\n",
       "      <td>9646.0</td>\n",
       "      <td>7506.0</td>\n",
       "      <td>12149.0</td>\n",
       "    </tr>\n",
       "    <tr>\n",
       "      <th>29806</th>\n",
       "      <td>29806.0</td>\n",
       "      <td>98.0</td>\n",
       "      <td>98.0</td>\n",
       "      <td>88.0</td>\n",
       "    </tr>\n",
       "    <tr>\n",
       "      <th>31352</th>\n",
       "      <td>31352.0</td>\n",
       "      <td>1756.0</td>\n",
       "      <td>1898.0</td>\n",
       "      <td>2018.0</td>\n",
       "    </tr>\n",
       "    <tr>\n",
       "      <th>34102</th>\n",
       "      <td>34102.0</td>\n",
       "      <td>252.0</td>\n",
       "      <td>293.0</td>\n",
       "      <td>550.0</td>\n",
       "    </tr>\n",
       "    <tr>\n",
       "      <th>27929</th>\n",
       "      <td>27929.0</td>\n",
       "      <td>73.0</td>\n",
       "      <td>73.0</td>\n",
       "      <td>67.0</td>\n",
       "    </tr>\n",
       "    <tr>\n",
       "      <th>27930</th>\n",
       "      <td>27930.0</td>\n",
       "      <td>284.0</td>\n",
       "      <td>331.0</td>\n",
       "      <td>262.0</td>\n",
       "    </tr>\n",
       "    <tr>\n",
       "      <th>3741</th>\n",
       "      <td>3741.0</td>\n",
       "      <td>640.0</td>\n",
       "      <td>660.0</td>\n",
       "      <td>768.0</td>\n",
       "    </tr>\n",
       "    <tr>\n",
       "      <th>48267</th>\n",
       "      <td>48267.0</td>\n",
       "      <td>401.0</td>\n",
       "      <td>606.0</td>\n",
       "      <td>397.0</td>\n",
       "    </tr>\n",
       "    <tr>\n",
       "      <th>43333</th>\n",
       "      <td>43333.0</td>\n",
       "      <td>6.0</td>\n",
       "      <td>6.0</td>\n",
       "      <td>6.0</td>\n",
       "    </tr>\n",
       "    <tr>\n",
       "      <th>38080</th>\n",
       "      <td>38080.0</td>\n",
       "      <td>1277.0</td>\n",
       "      <td>1253.0</td>\n",
       "      <td>1970.0</td>\n",
       "    </tr>\n",
       "    <tr>\n",
       "      <th>52794</th>\n",
       "      <td>52794.0</td>\n",
       "      <td>27.0</td>\n",
       "      <td>27.0</td>\n",
       "      <td>41.0</td>\n",
       "    </tr>\n",
       "    <tr>\n",
       "      <th>34611</th>\n",
       "      <td>34611.0</td>\n",
       "      <td>9026.0</td>\n",
       "      <td>10686.0</td>\n",
       "      <td>6179.0</td>\n",
       "    </tr>\n",
       "  </tbody>\n",
       "</table>\n",
       "</div>"
      ],
      "text/plain": [
       "            PN  Costes Rd  Costes Rp  Costes SM\n",
       "43709  43709.0     1686.0     1841.0     1870.0\n",
       "9693    9693.0      650.0      615.0      985.0\n",
       "15500  15500.0     3222.0     1974.0     4242.0\n",
       "30973  30973.0     9646.0     7506.0    12149.0\n",
       "29806  29806.0       98.0       98.0       88.0\n",
       "31352  31352.0     1756.0     1898.0     2018.0\n",
       "34102  34102.0      252.0      293.0      550.0\n",
       "27929  27929.0       73.0       73.0       67.0\n",
       "27930  27930.0      284.0      331.0      262.0\n",
       "3741    3741.0      640.0      660.0      768.0\n",
       "48267  48267.0      401.0      606.0      397.0\n",
       "43333  43333.0        6.0        6.0        6.0\n",
       "38080  38080.0     1277.0     1253.0     1970.0\n",
       "52794  52794.0       27.0       27.0       41.0\n",
       "34611  34611.0     9026.0    10686.0     6179.0"
      ]
     },
     "execution_count": 76,
     "metadata": {},
     "output_type": "execute_result"
    }
   ],
   "source": [
    "np.round(allda0[allda0[0].isin([27929,29806,52794,34102,38080,3741,27930,43709,43333,48267,30973,34611,31352,15500,9693])]).rename(columns={0:'PN', 1: 'Costes Rd', 2: 'Costes Rp', 3: 'Costes SM'})"
   ]
  },
  {
   "cell_type": "markdown",
   "metadata": {},
   "source": [
    "Costes de compra y almacenamiento para algunos productos del grupo A."
   ]
  },
  {
   "cell_type": "code",
   "execution_count": 77,
   "metadata": {},
   "outputs": [
    {
     "data": {
      "text/html": [
       "<div>\n",
       "<style scoped>\n",
       "    .dataframe tbody tr th:only-of-type {\n",
       "        vertical-align: middle;\n",
       "    }\n",
       "\n",
       "    .dataframe tbody tr th {\n",
       "        vertical-align: top;\n",
       "    }\n",
       "\n",
       "    .dataframe thead th {\n",
       "        text-align: right;\n",
       "    }\n",
       "</style>\n",
       "<table border=\"1\" class=\"dataframe\">\n",
       "  <thead>\n",
       "    <tr style=\"text-align: right;\">\n",
       "      <th></th>\n",
       "      <th>PN</th>\n",
       "      <th>Costes Rd</th>\n",
       "      <th>Costes Rp</th>\n",
       "      <th>Costes SM</th>\n",
       "    </tr>\n",
       "  </thead>\n",
       "  <tbody>\n",
       "    <tr>\n",
       "      <th>703</th>\n",
       "      <td>703.0</td>\n",
       "      <td>1539.0</td>\n",
       "      <td>1536.0</td>\n",
       "      <td>1958.0</td>\n",
       "    </tr>\n",
       "    <tr>\n",
       "      <th>10813</th>\n",
       "      <td>10813.0</td>\n",
       "      <td>979.0</td>\n",
       "      <td>861.0</td>\n",
       "      <td>1877.0</td>\n",
       "    </tr>\n",
       "    <tr>\n",
       "      <th>26453</th>\n",
       "      <td>26453.0</td>\n",
       "      <td>573.0</td>\n",
       "      <td>602.0</td>\n",
       "      <td>1288.0</td>\n",
       "    </tr>\n",
       "    <tr>\n",
       "      <th>25387</th>\n",
       "      <td>25387.0</td>\n",
       "      <td>11054.0</td>\n",
       "      <td>10051.0</td>\n",
       "      <td>19100.0</td>\n",
       "    </tr>\n",
       "    <tr>\n",
       "      <th>36445</th>\n",
       "      <td>36445.0</td>\n",
       "      <td>106.0</td>\n",
       "      <td>113.0</td>\n",
       "      <td>159.0</td>\n",
       "    </tr>\n",
       "    <tr>\n",
       "      <th>6364</th>\n",
       "      <td>6364.0</td>\n",
       "      <td>4081.0</td>\n",
       "      <td>4569.0</td>\n",
       "      <td>6970.0</td>\n",
       "    </tr>\n",
       "    <tr>\n",
       "      <th>42287</th>\n",
       "      <td>42287.0</td>\n",
       "      <td>1020.0</td>\n",
       "      <td>1006.0</td>\n",
       "      <td>1697.0</td>\n",
       "    </tr>\n",
       "    <tr>\n",
       "      <th>7318</th>\n",
       "      <td>7318.0</td>\n",
       "      <td>191.0</td>\n",
       "      <td>204.0</td>\n",
       "      <td>549.0</td>\n",
       "    </tr>\n",
       "    <tr>\n",
       "      <th>19020</th>\n",
       "      <td>19020.0</td>\n",
       "      <td>373.0</td>\n",
       "      <td>405.0</td>\n",
       "      <td>656.0</td>\n",
       "    </tr>\n",
       "    <tr>\n",
       "      <th>44308</th>\n",
       "      <td>44308.0</td>\n",
       "      <td>108.0</td>\n",
       "      <td>109.0</td>\n",
       "      <td>199.0</td>\n",
       "    </tr>\n",
       "    <tr>\n",
       "      <th>38408</th>\n",
       "      <td>38408.0</td>\n",
       "      <td>108.0</td>\n",
       "      <td>106.0</td>\n",
       "      <td>121.0</td>\n",
       "    </tr>\n",
       "    <tr>\n",
       "      <th>20906</th>\n",
       "      <td>20906.0</td>\n",
       "      <td>1997.0</td>\n",
       "      <td>2166.0</td>\n",
       "      <td>1332.0</td>\n",
       "    </tr>\n",
       "    <tr>\n",
       "      <th>26107</th>\n",
       "      <td>26107.0</td>\n",
       "      <td>4799.0</td>\n",
       "      <td>4920.0</td>\n",
       "      <td>4066.0</td>\n",
       "    </tr>\n",
       "    <tr>\n",
       "      <th>16021</th>\n",
       "      <td>16021.0</td>\n",
       "      <td>1149.0</td>\n",
       "      <td>1137.0</td>\n",
       "      <td>1481.0</td>\n",
       "    </tr>\n",
       "  </tbody>\n",
       "</table>\n",
       "</div>"
      ],
      "text/plain": [
       "            PN  Costes Rd  Costes Rp  Costes SM\n",
       "703      703.0     1539.0     1536.0     1958.0\n",
       "10813  10813.0      979.0      861.0     1877.0\n",
       "26453  26453.0      573.0      602.0     1288.0\n",
       "25387  25387.0    11054.0    10051.0    19100.0\n",
       "36445  36445.0      106.0      113.0      159.0\n",
       "6364    6364.0     4081.0     4569.0     6970.0\n",
       "42287  42287.0     1020.0     1006.0     1697.0\n",
       "7318    7318.0      191.0      204.0      549.0\n",
       "19020  19020.0      373.0      405.0      656.0\n",
       "44308  44308.0      108.0      109.0      199.0\n",
       "38408  38408.0      108.0      106.0      121.0\n",
       "20906  20906.0     1997.0     2166.0     1332.0\n",
       "26107  26107.0     4799.0     4920.0     4066.0\n",
       "16021  16021.0     1149.0     1137.0     1481.0"
      ]
     },
     "execution_count": 77,
     "metadata": {},
     "output_type": "execute_result"
    }
   ],
   "source": [
    "np.round(allda0[allda0[0].isin([6364,7318,703,16021,19020,25387,26107,26453,20906,10813,36445,38408,44308,42287])]).rename(columns={0:'PN', 1: 'Costes Rd', 2: 'Costes Rp', 3: 'Costes SM'})"
   ]
  },
  {
   "cell_type": "markdown",
   "metadata": {},
   "source": [
    "Resultados para algunos productos del grupo B (Punto de pedido y exceso de stock invertido respecto a SM)."
   ]
  },
  {
   "cell_type": "code",
   "execution_count": 78,
   "metadata": {},
   "outputs": [
    {
     "data": {
      "text/html": [
       "<div>\n",
       "<style scoped>\n",
       "    .dataframe tbody tr th:only-of-type {\n",
       "        vertical-align: middle;\n",
       "    }\n",
       "\n",
       "    .dataframe tbody tr th {\n",
       "        vertical-align: top;\n",
       "    }\n",
       "\n",
       "    .dataframe thead th {\n",
       "        text-align: right;\n",
       "    }\n",
       "</style>\n",
       "<table border=\"1\" class=\"dataframe\">\n",
       "  <thead>\n",
       "    <tr style=\"text-align: right;\">\n",
       "      <th></th>\n",
       "      <th>PN</th>\n",
       "      <th>SM</th>\n",
       "      <th>ΣC</th>\n",
       "      <th>P</th>\n",
       "      <th>Rp</th>\n",
       "      <th>CIp</th>\n",
       "      <th>Rd</th>\n",
       "      <th>Rd 31-12</th>\n",
       "      <th>CId</th>\n",
       "      <th>CId a 31/12</th>\n",
       "    </tr>\n",
       "  </thead>\n",
       "  <tbody>\n",
       "    <tr>\n",
       "      <th>61</th>\n",
       "      <td>3741</td>\n",
       "      <td>4.0</td>\n",
       "      <td>12</td>\n",
       "      <td>55.80</td>\n",
       "      <td>1.0</td>\n",
       "      <td>167.40</td>\n",
       "      <td>1.0</td>\n",
       "      <td>1.0</td>\n",
       "      <td>167.40</td>\n",
       "      <td>167.40</td>\n",
       "    </tr>\n",
       "    <tr>\n",
       "      <th>167</th>\n",
       "      <td>9693</td>\n",
       "      <td>2.0</td>\n",
       "      <td>20</td>\n",
       "      <td>141.26</td>\n",
       "      <td>2.0</td>\n",
       "      <td>0.00</td>\n",
       "      <td>2.0</td>\n",
       "      <td>1.0</td>\n",
       "      <td>0.00</td>\n",
       "      <td>141.26</td>\n",
       "    </tr>\n",
       "    <tr>\n",
       "      <th>884</th>\n",
       "      <td>30973</td>\n",
       "      <td>10.0</td>\n",
       "      <td>11</td>\n",
       "      <td>1543.00</td>\n",
       "      <td>1.0</td>\n",
       "      <td>13887.00</td>\n",
       "      <td>1.0</td>\n",
       "      <td>1.0</td>\n",
       "      <td>13887.00</td>\n",
       "      <td>13887.00</td>\n",
       "    </tr>\n",
       "    <tr>\n",
       "      <th>895</th>\n",
       "      <td>15500</td>\n",
       "      <td>2.0</td>\n",
       "      <td>14</td>\n",
       "      <td>727.14</td>\n",
       "      <td>1.0</td>\n",
       "      <td>727.14</td>\n",
       "      <td>1.0</td>\n",
       "      <td>2.0</td>\n",
       "      <td>727.14</td>\n",
       "      <td>0.00</td>\n",
       "    </tr>\n",
       "    <tr>\n",
       "      <th>919</th>\n",
       "      <td>29806</td>\n",
       "      <td>6.0</td>\n",
       "      <td>29</td>\n",
       "      <td>5.05</td>\n",
       "      <td>2.0</td>\n",
       "      <td>20.20</td>\n",
       "      <td>2.0</td>\n",
       "      <td>1.0</td>\n",
       "      <td>20.20</td>\n",
       "      <td>25.25</td>\n",
       "    </tr>\n",
       "    <tr>\n",
       "      <th>1044</th>\n",
       "      <td>34102</td>\n",
       "      <td>2.0</td>\n",
       "      <td>6</td>\n",
       "      <td>121.70</td>\n",
       "      <td>1.0</td>\n",
       "      <td>121.70</td>\n",
       "      <td>1.0</td>\n",
       "      <td>1.0</td>\n",
       "      <td>121.70</td>\n",
       "      <td>121.70</td>\n",
       "    </tr>\n",
       "    <tr>\n",
       "      <th>1062</th>\n",
       "      <td>31352</td>\n",
       "      <td>2.0</td>\n",
       "      <td>5</td>\n",
       "      <td>690.60</td>\n",
       "      <td>1.0</td>\n",
       "      <td>690.60</td>\n",
       "      <td>1.0</td>\n",
       "      <td>1.0</td>\n",
       "      <td>690.60</td>\n",
       "      <td>690.60</td>\n",
       "    </tr>\n",
       "    <tr>\n",
       "      <th>1226</th>\n",
       "      <td>34611</td>\n",
       "      <td>4.0</td>\n",
       "      <td>4</td>\n",
       "      <td>2345.00</td>\n",
       "      <td>1.0</td>\n",
       "      <td>7035.00</td>\n",
       "      <td>1.0</td>\n",
       "      <td>1.0</td>\n",
       "      <td>7035.00</td>\n",
       "      <td>7035.00</td>\n",
       "    </tr>\n",
       "    <tr>\n",
       "      <th>1260</th>\n",
       "      <td>38080</td>\n",
       "      <td>4.0</td>\n",
       "      <td>2</td>\n",
       "      <td>649.29</td>\n",
       "      <td>1.0</td>\n",
       "      <td>1947.87</td>\n",
       "      <td>1.0</td>\n",
       "      <td>1.0</td>\n",
       "      <td>1947.87</td>\n",
       "      <td>1947.87</td>\n",
       "    </tr>\n",
       "    <tr>\n",
       "      <th>1545</th>\n",
       "      <td>27929</td>\n",
       "      <td>20.0</td>\n",
       "      <td>48</td>\n",
       "      <td>1.58</td>\n",
       "      <td>1.0</td>\n",
       "      <td>30.02</td>\n",
       "      <td>1.0</td>\n",
       "      <td>1.0</td>\n",
       "      <td>30.02</td>\n",
       "      <td>30.02</td>\n",
       "    </tr>\n",
       "    <tr>\n",
       "      <th>1552</th>\n",
       "      <td>27930</td>\n",
       "      <td>15.0</td>\n",
       "      <td>28</td>\n",
       "      <td>13.80</td>\n",
       "      <td>2.0</td>\n",
       "      <td>179.40</td>\n",
       "      <td>1.0</td>\n",
       "      <td>1.0</td>\n",
       "      <td>193.20</td>\n",
       "      <td>193.20</td>\n",
       "    </tr>\n",
       "    <tr>\n",
       "      <th>1584</th>\n",
       "      <td>43709</td>\n",
       "      <td>6.0</td>\n",
       "      <td>44</td>\n",
       "      <td>119.08</td>\n",
       "      <td>5.0</td>\n",
       "      <td>119.08</td>\n",
       "      <td>4.0</td>\n",
       "      <td>1.0</td>\n",
       "      <td>238.16</td>\n",
       "      <td>595.40</td>\n",
       "    </tr>\n",
       "    <tr>\n",
       "      <th>1829</th>\n",
       "      <td>43333</td>\n",
       "      <td>3.0</td>\n",
       "      <td>2</td>\n",
       "      <td>2.70</td>\n",
       "      <td>1.0</td>\n",
       "      <td>5.40</td>\n",
       "      <td>1.0</td>\n",
       "      <td>1.0</td>\n",
       "      <td>5.40</td>\n",
       "      <td>5.40</td>\n",
       "    </tr>\n",
       "    <tr>\n",
       "      <th>1902</th>\n",
       "      <td>48267</td>\n",
       "      <td>2.0</td>\n",
       "      <td>2</td>\n",
       "      <td>381.39</td>\n",
       "      <td>1.0</td>\n",
       "      <td>381.39</td>\n",
       "      <td>1.0</td>\n",
       "      <td>1.0</td>\n",
       "      <td>381.39</td>\n",
       "      <td>381.39</td>\n",
       "    </tr>\n",
       "  </tbody>\n",
       "</table>\n",
       "</div>"
      ],
      "text/plain": [
       "         PN    SM  ΣC        P   Rp       CIp   Rd  Rd 31-12       CId  \\\n",
       "61     3741   4.0  12    55.80  1.0    167.40  1.0       1.0    167.40   \n",
       "167    9693   2.0  20   141.26  2.0      0.00  2.0       1.0      0.00   \n",
       "884   30973  10.0  11  1543.00  1.0  13887.00  1.0       1.0  13887.00   \n",
       "895   15500   2.0  14   727.14  1.0    727.14  1.0       2.0    727.14   \n",
       "919   29806   6.0  29     5.05  2.0     20.20  2.0       1.0     20.20   \n",
       "1044  34102   2.0   6   121.70  1.0    121.70  1.0       1.0    121.70   \n",
       "1062  31352   2.0   5   690.60  1.0    690.60  1.0       1.0    690.60   \n",
       "1226  34611   4.0   4  2345.00  1.0   7035.00  1.0       1.0   7035.00   \n",
       "1260  38080   4.0   2   649.29  1.0   1947.87  1.0       1.0   1947.87   \n",
       "1545  27929  20.0  48     1.58  1.0     30.02  1.0       1.0     30.02   \n",
       "1552  27930  15.0  28    13.80  2.0    179.40  1.0       1.0    193.20   \n",
       "1584  43709   6.0  44   119.08  5.0    119.08  4.0       1.0    238.16   \n",
       "1829  43333   3.0   2     2.70  1.0      5.40  1.0       1.0      5.40   \n",
       "1902  48267   2.0   2   381.39  1.0    381.39  1.0       1.0    381.39   \n",
       "\n",
       "      CId a 31/12  \n",
       "61         167.40  \n",
       "167        141.26  \n",
       "884      13887.00  \n",
       "895          0.00  \n",
       "919         25.25  \n",
       "1044       121.70  \n",
       "1062       690.60  \n",
       "1226      7035.00  \n",
       "1260      1947.87  \n",
       "1545        30.02  \n",
       "1552       193.20  \n",
       "1584       595.40  \n",
       "1829         5.40  \n",
       "1902       381.39  "
      ]
     },
     "execution_count": 78,
     "metadata": {},
     "output_type": "execute_result"
    }
   ],
   "source": [
    "MuestraRd[MuestraRd['PN'].isin([27929,29806,34102,38080,3741,27930,43709,43333,48267,30973,34611,31352,15500,9693])].rename(columns={2:'SM', 3:'ΣC',66: 'Rp', 5:'P', 7:'CIp',77:'CId', 777:'CId a 31/12'})"
   ]
  },
  {
   "cell_type": "markdown",
   "metadata": {},
   "source": [
    "Resultados para algunos productos del grupo A (Punto de pedido y exceso de stock invertido respecto a SM)."
   ]
  },
  {
   "cell_type": "code",
   "execution_count": 79,
   "metadata": {},
   "outputs": [
    {
     "data": {
      "text/html": [
       "<div>\n",
       "<style scoped>\n",
       "    .dataframe tbody tr th:only-of-type {\n",
       "        vertical-align: middle;\n",
       "    }\n",
       "\n",
       "    .dataframe tbody tr th {\n",
       "        vertical-align: top;\n",
       "    }\n",
       "\n",
       "    .dataframe thead th {\n",
       "        text-align: right;\n",
       "    }\n",
       "</style>\n",
       "<table border=\"1\" class=\"dataframe\">\n",
       "  <thead>\n",
       "    <tr style=\"text-align: right;\">\n",
       "      <th></th>\n",
       "      <th>PN</th>\n",
       "      <th>SM</th>\n",
       "      <th>ΣC</th>\n",
       "      <th>P</th>\n",
       "      <th>Rp</th>\n",
       "      <th>CIp</th>\n",
       "      <th>Rd</th>\n",
       "      <th>Rd 31-12</th>\n",
       "      <th>CId</th>\n",
       "      <th>CId a 31/12</th>\n",
       "    </tr>\n",
       "  </thead>\n",
       "  <tbody>\n",
       "    <tr>\n",
       "      <th>105</th>\n",
       "      <td>6364</td>\n",
       "      <td>50.0</td>\n",
       "      <td>132</td>\n",
       "      <td>93.17</td>\n",
       "      <td>8.0</td>\n",
       "      <td>3913.14</td>\n",
       "      <td>6.0</td>\n",
       "      <td>1.0</td>\n",
       "      <td>4099.48</td>\n",
       "      <td>4565.33</td>\n",
       "    </tr>\n",
       "    <tr>\n",
       "      <th>120</th>\n",
       "      <td>7318</td>\n",
       "      <td>12.0</td>\n",
       "      <td>157</td>\n",
       "      <td>7.02</td>\n",
       "      <td>17.0</td>\n",
       "      <td>-35.10</td>\n",
       "      <td>17.0</td>\n",
       "      <td>1.0</td>\n",
       "      <td>-35.10</td>\n",
       "      <td>77.22</td>\n",
       "    </tr>\n",
       "    <tr>\n",
       "      <th>147</th>\n",
       "      <td>703</td>\n",
       "      <td>20.0</td>\n",
       "      <td>219</td>\n",
       "      <td>20.75</td>\n",
       "      <td>6.0</td>\n",
       "      <td>290.50</td>\n",
       "      <td>5.0</td>\n",
       "      <td>1.0</td>\n",
       "      <td>311.25</td>\n",
       "      <td>394.25</td>\n",
       "    </tr>\n",
       "    <tr>\n",
       "      <th>277</th>\n",
       "      <td>16021</td>\n",
       "      <td>4.0</td>\n",
       "      <td>70</td>\n",
       "      <td>36.40</td>\n",
       "      <td>6.0</td>\n",
       "      <td>-72.80</td>\n",
       "      <td>6.0</td>\n",
       "      <td>1.0</td>\n",
       "      <td>-72.80</td>\n",
       "      <td>109.20</td>\n",
       "    </tr>\n",
       "    <tr>\n",
       "      <th>334</th>\n",
       "      <td>19020</td>\n",
       "      <td>100.0</td>\n",
       "      <td>365</td>\n",
       "      <td>2.27</td>\n",
       "      <td>19.0</td>\n",
       "      <td>183.87</td>\n",
       "      <td>10.0</td>\n",
       "      <td>150.0</td>\n",
       "      <td>204.30</td>\n",
       "      <td>-113.50</td>\n",
       "    </tr>\n",
       "    <tr>\n",
       "      <th>536</th>\n",
       "      <td>25387</td>\n",
       "      <td>20.0</td>\n",
       "      <td>78</td>\n",
       "      <td>491.00</td>\n",
       "      <td>5.0</td>\n",
       "      <td>7365.00</td>\n",
       "      <td>4.0</td>\n",
       "      <td>7.0</td>\n",
       "      <td>7856.00</td>\n",
       "      <td>6383.00</td>\n",
       "    </tr>\n",
       "    <tr>\n",
       "      <th>575</th>\n",
       "      <td>26107</td>\n",
       "      <td>30.0</td>\n",
       "      <td>193</td>\n",
       "      <td>41.90</td>\n",
       "      <td>5.0</td>\n",
       "      <td>1047.50</td>\n",
       "      <td>3.0</td>\n",
       "      <td>1.0</td>\n",
       "      <td>1131.30</td>\n",
       "      <td>1215.10</td>\n",
       "    </tr>\n",
       "    <tr>\n",
       "      <th>592</th>\n",
       "      <td>26453</td>\n",
       "      <td>30.0</td>\n",
       "      <td>288</td>\n",
       "      <td>8.45</td>\n",
       "      <td>12.0</td>\n",
       "      <td>152.10</td>\n",
       "      <td>10.0</td>\n",
       "      <td>36.0</td>\n",
       "      <td>169.00</td>\n",
       "      <td>-50.70</td>\n",
       "    </tr>\n",
       "    <tr>\n",
       "      <th>781</th>\n",
       "      <td>20906</td>\n",
       "      <td>46.0</td>\n",
       "      <td>160</td>\n",
       "      <td>29.35</td>\n",
       "      <td>12.0</td>\n",
       "      <td>997.90</td>\n",
       "      <td>12.0</td>\n",
       "      <td>1.0</td>\n",
       "      <td>997.90</td>\n",
       "      <td>1320.75</td>\n",
       "    </tr>\n",
       "    <tr>\n",
       "      <th>1085</th>\n",
       "      <td>10813</td>\n",
       "      <td>6.0</td>\n",
       "      <td>58</td>\n",
       "      <td>76.46</td>\n",
       "      <td>6.0</td>\n",
       "      <td>0.00</td>\n",
       "      <td>6.0</td>\n",
       "      <td>2.0</td>\n",
       "      <td>0.00</td>\n",
       "      <td>305.84</td>\n",
       "    </tr>\n",
       "    <tr>\n",
       "      <th>1176</th>\n",
       "      <td>36445</td>\n",
       "      <td>20.0</td>\n",
       "      <td>262</td>\n",
       "      <td>1.00</td>\n",
       "      <td>11.0</td>\n",
       "      <td>9.00</td>\n",
       "      <td>6.0</td>\n",
       "      <td>5.0</td>\n",
       "      <td>14.00</td>\n",
       "      <td>15.00</td>\n",
       "    </tr>\n",
       "    <tr>\n",
       "      <th>1276</th>\n",
       "      <td>38408</td>\n",
       "      <td>50.0</td>\n",
       "      <td>171</td>\n",
       "      <td>1.39</td>\n",
       "      <td>8.0</td>\n",
       "      <td>58.38</td>\n",
       "      <td>8.0</td>\n",
       "      <td>1.0</td>\n",
       "      <td>58.38</td>\n",
       "      <td>68.11</td>\n",
       "    </tr>\n",
       "    <tr>\n",
       "      <th>1630</th>\n",
       "      <td>44308</td>\n",
       "      <td>25.0</td>\n",
       "      <td>75</td>\n",
       "      <td>4.14</td>\n",
       "      <td>3.0</td>\n",
       "      <td>91.08</td>\n",
       "      <td>3.0</td>\n",
       "      <td>1.0</td>\n",
       "      <td>91.08</td>\n",
       "      <td>99.36</td>\n",
       "    </tr>\n",
       "    <tr>\n",
       "      <th>1707</th>\n",
       "      <td>42287</td>\n",
       "      <td>2.0</td>\n",
       "      <td>142</td>\n",
       "      <td>22.44</td>\n",
       "      <td>10.0</td>\n",
       "      <td>-179.52</td>\n",
       "      <td>9.0</td>\n",
       "      <td>1.0</td>\n",
       "      <td>-157.08</td>\n",
       "      <td>22.44</td>\n",
       "    </tr>\n",
       "  </tbody>\n",
       "</table>\n",
       "</div>"
      ],
      "text/plain": [
       "         PN     SM   ΣC       P    Rp      CIp    Rd  Rd 31-12      CId  \\\n",
       "105    6364   50.0  132   93.17   8.0  3913.14   6.0       1.0  4099.48   \n",
       "120    7318   12.0  157    7.02  17.0   -35.10  17.0       1.0   -35.10   \n",
       "147     703   20.0  219   20.75   6.0   290.50   5.0       1.0   311.25   \n",
       "277   16021    4.0   70   36.40   6.0   -72.80   6.0       1.0   -72.80   \n",
       "334   19020  100.0  365    2.27  19.0   183.87  10.0     150.0   204.30   \n",
       "536   25387   20.0   78  491.00   5.0  7365.00   4.0       7.0  7856.00   \n",
       "575   26107   30.0  193   41.90   5.0  1047.50   3.0       1.0  1131.30   \n",
       "592   26453   30.0  288    8.45  12.0   152.10  10.0      36.0   169.00   \n",
       "781   20906   46.0  160   29.35  12.0   997.90  12.0       1.0   997.90   \n",
       "1085  10813    6.0   58   76.46   6.0     0.00   6.0       2.0     0.00   \n",
       "1176  36445   20.0  262    1.00  11.0     9.00   6.0       5.0    14.00   \n",
       "1276  38408   50.0  171    1.39   8.0    58.38   8.0       1.0    58.38   \n",
       "1630  44308   25.0   75    4.14   3.0    91.08   3.0       1.0    91.08   \n",
       "1707  42287    2.0  142   22.44  10.0  -179.52   9.0       1.0  -157.08   \n",
       "\n",
       "      CId a 31/12  \n",
       "105       4565.33  \n",
       "120         77.22  \n",
       "147        394.25  \n",
       "277        109.20  \n",
       "334       -113.50  \n",
       "536       6383.00  \n",
       "575       1215.10  \n",
       "592        -50.70  \n",
       "781       1320.75  \n",
       "1085       305.84  \n",
       "1176        15.00  \n",
       "1276        68.11  \n",
       "1630        99.36  \n",
       "1707        22.44  "
      ]
     },
     "execution_count": 79,
     "metadata": {},
     "output_type": "execute_result"
    }
   ],
   "source": [
    "MuestraRd[MuestraRd['PN'].isin([6364,7318,703,16021,19020,25387,26107,26453,20906,10813,36445,38408,44308,42287])].rename(columns={2:'SM', 3:'ΣC',66: 'Rp', 5:'P', 7:'CIp',77:'CId', 777:'CId a 31/12'})"
   ]
  }
 ],
 "metadata": {
  "kernelspec": {
   "display_name": "Python 3",
   "language": "python",
   "name": "python3"
  },
  "language_info": {
   "codemirror_mode": {
    "name": "ipython",
    "version": 3
   },
   "file_extension": ".py",
   "mimetype": "text/x-python",
   "name": "python",
   "nbconvert_exporter": "python",
   "pygments_lexer": "ipython3",
   "version": "3.6.5"
  }
 },
 "nbformat": 4,
 "nbformat_minor": 2
}
